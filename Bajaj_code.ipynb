{
  "nbformat": 4,
  "nbformat_minor": 0,
  "metadata": {
    "colab": {
      "provenance": []
    },
    "kernelspec": {
      "name": "python3",
      "display_name": "Python 3"
    },
    "language_info": {
      "name": "python"
    }
  },
  "cells": [
    {
      "cell_type": "markdown",
      "source": [
        "\n",
        "Name: Shivangi Singh\n",
        "\n",
        "PRN:21070126085\n",
        "\n",
        "AIML\n",
        "\n",
        "21-25\n",
        "\n"
      ],
      "metadata": {
        "id": "zkXqFSeDXqBJ"
      }
    },
    {
      "cell_type": "code",
      "source": [
        "# Loading the json dataset"
      ],
      "metadata": {
        "id": "vbseQzvtXu4-"
      },
      "execution_count": null,
      "outputs": []
    },
    {
      "cell_type": "code",
      "execution_count": 17,
      "metadata": {
        "id": "y6H8m1otOGpB"
      },
      "outputs": [],
      "source": [
        "import pandas as pd\n",
        "import json\n",
        "\n",
        "# Load the JSON file into a DataFrame\n",
        "file_path = '/content/DataEngineeringQ2.json'\n",
        "with open(file_path, 'r') as file:\n",
        "    data = json.load(file)\n",
        "\n",
        "# Normalize the JSON data\n",
        "df = pd.json_normalize(data)"
      ]
    },
    {
      "cell_type": "code",
      "source": [
        "print(data)"
      ],
      "metadata": {
        "colab": {
          "base_uri": "https://localhost:8080/"
        },
        "id": "wckK3GgHPNF0",
        "outputId": "f7f5e2bd-2ace-40cd-a3b7-f806eda6b9f4"
      },
      "execution_count": 18,
      "outputs": [
        {
          "output_type": "stream",
          "name": "stdout",
          "text": [
            "[{'_id': 'T6hf3rb5', 'appointmentId': '40d2-9c9f', 'patientDetails': {'_id': 'T6hb630b3', 'firstName': 'Css', 'lastName': '', 'emailId': '', 'gender': '', 'alternateContact': '', 'birthDate': None}, 'phoneNumber': '96686896670', 'consultationData': {'adviceTemplates': [], 'advices': [], 'attachments': [], 'chiefComplaints': [], 'customOne': [], 'customThree': [], 'customTwo': [], 'disease': [], 'doctorNotes': '', 'emergencyInstructions': [], 'emergencyInstructionsTemplate': [], 'emrTemplates': [], 'examinationNote': [], 'findings': [], 'investigationInstructions': [], 'investigationTemplates': [], 'investigations': [], 'isBalicAppointment': False, 'isQuickPrescription': False, 'labTest': [], 'languageCode': 'en', 'medicineTemplates': [], 'medicines': [{'medicineId': '619404', 'medicineName': 'A', 'medicineNameStrengthType': '', 'frequency': '1-0-1', 'duration': '90', 'durationIn': 'DAYS', 'instruction': 'AFTER MEAL', 'isActive': True}, {'medicineId': '619804', 'medicineName': 'B', 'medicineNameStrengthType': '', 'frequency': '1-0-1', 'duration': '90', 'durationIn': 'DAYS', 'instruction': 'AFTER MEAL', 'isActive': False}], 'procedures': [], 'prognosis': [], 'sharePrescription': False}}, {'_id': 'T65g3rb5', 'appointmentId': '40dbtc9f', 'patientDetails': {'_id': 'T6h33b300', 'firstName': 'Lokesh', 'lastName': '', 'emailId': '', 'gender': 'M', 'birthDate': '1996-05-16T18:30:00.000Z'}, 'phoneNumber': '9496368916', 'consultationData': {'adviceTemplates': [], 'advices': [], 'attachments': [], 'chiefComplaints': [], 'customOne': [], 'customThree': [], 'customTwo': [], 'disease': [], 'doctorNotes': '', 'emergencyInstructions': [], 'emergencyInstructionsTemplate': [], 'emrTemplates': [], 'examinationNote': [], 'findings': [], 'investigationInstructions': [], 'investigationTemplates': [], 'investigations': [], 'isBalicAppointment': False, 'isQuickPrescription': False, 'labTest': [], 'languageCode': 'en', 'medicineTemplates': [], 'medicines': [{'medicineId': '619404', 'medicineName': 'A', 'medicineNameStrengthType': '', 'frequency': '1-0-1', 'duration': '90', 'durationIn': 'DAYS', 'instruction': 'AFTER MEAL', 'isActive': True}, {'medicineId': '619804', 'medicineName': 'C', 'medicineNameStrengthType': '', 'frequency': '1-0-1', 'duration': '30', 'durationIn': 'DAYS', 'instruction': 'AFTER MEAL', 'isActive': False}], 'procedures': [], 'prognosis': [], 'sharePrescription': False}}, {'_id': 'T7g6Srb5', 'appointmentId': 'g3Wt5c9f', 'patientDetails': {'_id': 'TjhB4373', 'phrId': '63b5hvy614d5', 'firstName': 'Shila', 'lastName': 'Das', 'emailId': ''}, 'phoneNumber': '7787204833', 'consultationData': {'adviceTemplates': [], 'advices': [], 'attachments': [], 'chiefComplaints': [], 'customOne': [], 'customThree': [], 'customTwo': [], 'disease': [], 'doctorNotes': '', 'emergencyInstructions': [], 'emergencyInstructionsTemplate': [], 'emrTemplates': [], 'examinationNote': [], 'findings': [], 'investigationInstructions': [], 'investigationTemplates': [], 'investigations': [], 'isBalicAppointment': False, 'isQuickPrescription': False, 'labTest': [], 'languageCode': 'en', 'medicineTemplates': [], 'medicines': [{'medicineId': '619404', 'medicineName': 'B', 'medicineNameStrengthType': '', 'frequency': '1-0-1', 'duration': '10', 'durationIn': 'DAYS', 'instruction': 'AFTER MEAL', 'isActive': True}, {'medicineId': '619404', 'medicineName': 'A', 'medicineNameStrengthType': '', 'frequency': '1-0-1', 'duration': '60', 'durationIn': 'DAYS', 'instruction': 'AFTER MEAL', 'isActive': False}, {'medicineId': '619404', 'medicineName': 'C', 'medicineNameStrengthType': '', 'frequency': '1-0-1', 'duration': '90', 'durationIn': 'DAYS', 'instruction': 'AFTER MEAL', 'isActive': True}], 'procedures': [], 'prognosis': [], 'sharePrescription': False}}, {'_id': '94bg8W8d', 'appointmentId': 'fb6-a535', 'patientDetails': {'_id': '6df4R5b', 'phrId': '644nig7y', 'firstName': 'Bhavika', 'lastName': 'Ben Panchal', 'emailId': '', 'gender': 'F', 'birthDate': '1988-04-24T14:30:00.000Z'}, 'phoneNumber': '9376756879', 'consultationData': {'adviceTemplates': [], 'advices': [], 'attachments': [], 'chiefComplaints': [], 'customOne': [], 'customThree': [], 'customTwo': [], 'disease': [], 'doctorNotes': '', 'emergencyInstructions': [], 'emergencyInstructionsTemplate': [], 'emrTemplates': [], 'examinationNote': [], 'findings': [], 'investigationInstructions': [], 'investigationTemplates': [], 'investigations': [], 'isBalicAppointment': False, 'isQuickPrescription': False, 'labTest': [], 'languageCode': 'en', 'medicineTemplates': [], 'medicines': [{'medicineId': '619704', 'medicineName': 'B', 'medicineNameStrengthType': '', 'frequency': '1-0-1', 'duration': '90', 'durationIn': 'DAYS', 'instruction': 'AFTER MEAL', 'isActive': True}], 'procedures': [], 'prognosis': [], 'sharePrescription': False}}, {'_id': 'T6h8H56c', 'appointmentId': '67h7KL9', 'patientDetails': {'_id': 'lK9hy06a', 'firstName': 'Raghu Viju', 'lastName': '', 'emailId': '', 'alternateContact': ''}, 'phoneNumber': '5267384241', 'consultationData': {'adviceTemplates': [], 'advices': [], 'attachments': [], 'chiefComplaints': [], 'customOne': [], 'customThree': [], 'customTwo': [], 'disease': [], 'doctorNotes': '', 'emergencyInstructions': [], 'emergencyInstructionsTemplate': [], 'emrTemplates': [], 'examinationNote': [], 'findings': [], 'investigationInstructions': [], 'investigationTemplates': [], 'investigations': [], 'isBalicAppointment': False, 'isQuickPrescription': False, 'labTest': [], 'languageCode': 'en', 'medicineTemplates': [], 'medicines': [{'medicineId': '619384', 'medicineName': 'D', 'medicineNameStrengthType': '', 'frequency': '1-1-1', 'duration': '90', 'durationIn': 'DAYS', 'instruction': 'AFTER MEAL', 'isActive': True}, {'medicineId': '628424', 'medicineName': 'A', 'medicineNameStrengthType': '', 'frequency': '1-0-1', 'duration': '90', 'durationIn': 'DAYS', 'instruction': 'AFTER MEAL', 'isActive': True}], 'procedures': [], 'prognosis': [], 'sharePrescription': False}}, {'_id': 'T9Jh8c8', 'appointmentId': 'Hy7Y91', 'patientDetails': {'_id': 'kI9d5c6', 'firstName': 'Dinesh Kumar', 'lastName': '', 'emailId': '', 'gender': 'M', 'birthDate': '1983-05-16T18:30:00.000Z', 'chat': {'_id': '09hUb5c7'}, 'customId': '3FPEUCW8HACJ'}, 'phoneNumber': '+919826374025', 'consultationData': {'adviceTemplates': [], 'advices': [], 'attachments': [], 'chiefComplaints': [], 'customOne': [], 'customThree': [], 'customTwo': [], 'disease': [], 'doctorNotes': '', 'emergencyInstructions': [], 'emergencyInstructionsTemplate': [], 'emrTemplates': [], 'examinationNote': [], 'findings': [], 'investigationInstructions': [], 'investigationTemplates': [], 'investigations': [], 'isBalicAppointment': False, 'isQuickPrescription': False, 'labTest': [], 'languageCode': 'en', 'medicineTemplates': [], 'medicines': [{'medicineId': '643404', 'medicineName': 'A', 'medicineNameStrengthType': '', 'frequency': '1-0-1', 'duration': '90', 'durationIn': 'DAYS', 'instruction': 'AFTER MEAL', 'isActive': True}, {'medicineId': '615604', 'medicineName': 'D', 'medicineNameStrengthType': '', 'frequency': '1-0-1', 'duration': '90', 'durationIn': 'DAYS', 'instruction': 'AFTER MEAL', 'isActive': False}, {'medicineId': '617704', 'medicineName': 'E', 'medicineNameStrengthType': '', 'frequency': '1-0-1', 'duration': '90', 'durationIn': 'DAYS', 'instruction': 'AFTER MEAL', 'isActive': True}, {'medicineId': '685404', 'medicineName': 'C', 'medicineNameStrengthType': '', 'frequency': '1-0-1', 'duration': '90', 'durationIn': 'DAYS', 'instruction': 'AFTER MEAL', 'isActive': False}], 'procedures': [], 'prognosis': [], 'sharePrescription': False}}, {'_id': '9Is624b9', 'appointmentId': '10dY8a-4a', 'patientDetails': {'_id': 'i9R324b7', 'phrId': '67Yt2b97', 'firstName': 'Lalit', 'lastName': 'Sankhwal', 'emailId': '', 'gender': 'M', 'alternateContact': '', 'birthDate': '2003-06-27T14:30:00.000Z'}, 'phoneNumber': '7587265252', 'consultationData': {'adviceTemplates': [], 'advices': [], 'attachments': [], 'chiefComplaints': [], 'customOne': [], 'customThree': [], 'customTwo': [], 'disease': [], 'doctorNotes': '', 'emergencyInstructions': [], 'emergencyInstructionsTemplate': [], 'emrTemplates': [], 'examinationNote': [], 'findings': [], 'investigationInstructions': [], 'investigationTemplates': [], 'investigations': [], 'isBalicAppointment': False, 'isQuickPrescription': False, 'labTest': [], 'languageCode': 'en', 'medicineTemplates': [], 'medicines': [{'medicineId': '632304', 'medicineName': 'D', 'medicineNameStrengthType': '', 'frequency': '1-0-1', 'duration': '90', 'durationIn': 'DAYS', 'instruction': 'AFTER MEAL', 'isActive': True}, {'medicineId': '617624', 'medicineName': 'E', 'medicineNameStrengthType': '', 'frequency': '1-0-1', 'duration': '90', 'durationIn': 'DAYS', 'instruction': 'AFTER MEAL', 'isActive': True}], 'procedures': [], 'prognosis': [], 'sharePrescription': False}}, {'_id': 'T8H9c3c6', 'appointmentId': 'e8056Ye8', 'patientDetails': {'_id': 'T6h41b5ad3d8002ad9c3c4', 'firstName': 'Ravi', 'lastName': '', 'emailId': '', 'chat': {'_id': 'T6h41b5ad3d8002ad9c3c5'}, 'customId': '8AV4ICI5I389'}, 'phoneNumber': '5586958767', 'consultationData': {'adviceTemplates': [], 'advices': [], 'attachments': [], 'chiefComplaints': [{'templates': [], 'symptomSnomedId': '', 'symptomSnomedName': 'cold', 'mediusId': ''}], 'customOne': [], 'customThree': [], 'customTwo': [], 'disease': [], 'doctorNotes': '', 'emergencyInstructions': [], 'emergencyInstructionsTemplate': [], 'emrTemplates': [], 'examinationNote': [], 'findings': [], 'investigationInstructions': [], 'investigationTemplates': [], 'investigations': [], 'isBalicAppointment': False, 'isQuickPrescription': False, 'labTest': [], 'languageCode': 'en', 'medicineTemplates': [], 'medicines': [{'medicineId': '619404', 'medicineName': 'A', 'medicineNameStrengthType': '', 'frequency': '1-0-1', 'duration': '90', 'durationIn': 'DAYS', 'instruction': 'AFTER MEAL', 'isActive': True}], 'procedures': [], 'prognosis': [], 'sharePrescription': False}}, {'_id': 'T8Ud380', 'appointmentId': 'dbc0-c66b', 'patientDetails': {'_id': 'T9Iy347e', 'firstName': 'Dinesh', 'lastName': '', 'emailId': '', 'gender': 'M', 'birthDate': '1983-05-16T18:30:00.000Z', 'chat': {'_id': 'T9IsT37f'}, 'customId': '0308MSAHYR8K'}, 'phoneNumber': '9987602525', 'consultationData': {'adviceTemplates': [], 'advices': [], 'attachments': [], 'chiefComplaints': [], 'customOne': [], 'customThree': [], 'customTwo': [], 'disease': [], 'doctorNotes': '', 'emergencyInstructions': [], 'emergencyInstructionsTemplate': [], 'emrTemplates': [], 'examinationNote': [], 'findings': [], 'investigationInstructions': [], 'investigationTemplates': [], 'investigations': [], 'isBalicAppointment': False, 'isQuickPrescription': False, 'labTest': [], 'languageCode': 'en', 'medicineTemplates': [], 'medicines': [{'medicineId': '619504', 'medicineName': 'E', 'medicineNameStrengthType': '', 'frequency': '1-0-1', 'duration': '90', 'durationIn': 'DAYS', 'instruction': 'AFTER MEAL', 'isActive': True}], 'procedures': [], 'prognosis': [], 'sharePrescription': False}}, {'_id': 'T345fG4', 'appointmentId': '1576a7', 'patientDetails': {'_id': 'T4Rb1a2', 'firstName': 'Sanjay', 'lastName': '', 'emailId': '', 'gender': 'M', 'birthDate': '1998-05-16T18:30:00.000Z', 'chat': {'_id': '7Yd9b1a3'}, 'customId': '8S7A3D4K4WZH'}, 'phoneNumber': '9234354366', 'consultationData': {'adviceTemplates': [], 'advices': [], 'attachments': [], 'chiefComplaints': [], 'customOne': [], 'customThree': [], 'customTwo': [], 'disease': [], 'doctorNotes': '', 'emergencyInstructions': [], 'emergencyInstructionsTemplate': [], 'emrTemplates': [], 'examinationNote': [], 'findings': [], 'investigationInstructions': [], 'investigationTemplates': [], 'investigations': [], 'isBalicAppointment': False, 'isQuickPrescription': False, 'labTest': [], 'languageCode': 'en', 'medicineTemplates': [], 'medicines': [], 'procedures': [], 'prognosis': [], 'sharePrescription': False}}, {'_id': 'T4F6a175', 'appointmentId': 'b6Te4ac', 'patientDetails': {'_id': 'Tr4T2173', 'phrId': '6E48U79', 'firstName': 'Akshay', 'lastName': 'Akshay', 'emailId': '', 'gender': 'M', 'birthDate': '1988-04-08T00:00:00.000Z', 'chat': {'_id': 'Tr4W174', 'channelId': '9IrR9ce7'}, 'customId': '83AH0K04SSTV'}, 'phoneNumber': '4863281056', 'consultationData': {'adviceTemplates': [], 'advices': [], 'attachments': [], 'chiefComplaints': [], 'customOne': [], 'customThree': [], 'customTwo': [], 'disease': [], 'doctorNotes': '', 'emergencyInstructions': [], 'emergencyInstructionsTemplate': [], 'emrTemplates': [], 'examinationNote': [], 'findings': [], 'investigationInstructions': [], 'investigationTemplates': [], 'investigations': [], 'isBalicAppointment': False, 'isQuickPrescription': False, 'labTest': [], 'languageCode': 'en', 'medicineTemplates': [], 'medicines': [{'medicineId': '619504', 'medicineName': 'E', 'medicineNameStrengthType': '', 'frequency': '1-0-1', 'duration': '90', 'durationIn': 'DAYS', 'instruction': 'AFTER MEAL', 'isActive': False}], 'procedures': [], 'prognosis': [], 'sharePrescription': False}}, {'_id': 'TW3r002', 'appointmentId': 'bu5Qfb', 'patientDetails': {'_id': 'T6Wa50', 'firstName': 'Nirmala', 'lastName': '', 'emailId': '', 'gender': 'F', 'birthDate': '1971-05-16T18:30:00.000Z', 'chat': {'_id': 'T6h3635ad3d8002ad9b001'}, 'customId': '832ZIS6ZCAHH'}, 'phoneNumber': '8687986800', 'consultationData': {'adviceTemplates': [], 'advices': [], 'attachments': [], 'chiefComplaints': [], 'customOne': [], 'customThree': [], 'customTwo': [], 'disease': [], 'doctorNotes': '', 'emergencyInstructions': [], 'emergencyInstructionsTemplate': [], 'emrTemplates': [], 'examinationNote': [], 'findings': [], 'investigationInstructions': [], 'investigationTemplates': [], 'investigations': [], 'isBalicAppointment': False, 'isQuickPrescription': False, 'labTest': [], 'languageCode': 'en', 'medicineTemplates': [], 'medicines': [{'medicineId': '619504', 'medicineName': 'E', 'medicineNameStrengthType': '', 'frequency': '1-0-1', 'duration': '90', 'durationIn': 'DAYS', 'instruction': 'AFTER MEAL', 'isActive': True}, {'medicineId': '611304', 'medicineName': 'A', 'medicineNameStrengthType': '', 'frequency': '1-0-1', 'duration': '90', 'durationIn': 'DAYS', 'instruction': 'AFTER MEAL', 'isActive': True}, {'medicineId': '619504', 'medicineName': 'D', 'medicineNameStrengthType': '', 'frequency': '1-0-1', 'duration': '90', 'durationIn': 'DAYS', 'instruction': 'AFTER MEAL', 'isActive': False}], 'procedures': [], 'prognosis': [], 'sharePrescription': False}}, {'_id': '6U6Ra36', 'appointmentId': '86U8Y45', 'patientDetails': {'_id': '65sRa36', 'firstName': 'Satish', 'lastName': '', 'emailId': '', 'birthDate': '1970-05-16T18:30:00.000Z', 'chat': {'_id': '6Y6a36'}, 'customId': 'YW883CARSES3'}, 'phoneNumber': '', 'consultationData': {'adviceTemplates': [], 'advices': [], 'attachments': [], 'chiefComplaints': [{'templates': [], 'symptomSnomedId': '', 'symptomSnomedName': 'puo', 'mediusId': ''}], 'customOne': [], 'customThree': [], 'customTwo': [], 'disease': [], 'doctorNotes': '', 'emergencyInstructions': [], 'emergencyInstructionsTemplate': [], 'emrTemplates': [], 'examinationNote': [], 'findings': [], 'investigationInstructions': [], 'investigationTemplates': [], 'investigations': [], 'isBalicAppointment': False, 'isQuickPrescription': False, 'labTest': [], 'languageCode': 'en', 'medicineTemplates': [], 'medicines': [], 'procedures': [], 'prognosis': [], 'sharePrescription': False}}, {'_id': 'u7Y7Aa5', 'appointmentId': 'Ufd7231', 'patientDetails': {'_id': 'UG67231', 'phrId': 'T6a7231', 'firstName': 'Kalaiarasi', 'lastName': 'Kalaiarasi', 'emailId': '', 'gender': 'F', 'alternateContact': '', 'birthDate': '1997-07-31T00:00:00.000Z'}, 'phoneNumber': '7152684236', 'consultationData': {'labTest': [], 'emrTemplates': [], 'doctorNotes': '', 'sharePrescription': False, 'languageCode': 'en', 'isBalicAppointment': False, 'isQuickPrescription': False, '_id': '6T67a6a4', 'chiefComplaints': [{'templates': [], 'symptomSnomedId': '', 'symptomSnomedName': 'fever and bodyache since today morning', 'mediusId': ''}, {'templates': [], 'symptomSnomedId': '', 'symptomSnomedName': ' 2 episodes of vomiting today morning', 'mediusId': ''}, {'templates': [], 'symptomSnomedId': '', 'symptomSnomedName': ' slight abdominal pain', 'mediusId': ''}, {'templates': [], 'symptomSnomedId': '', 'symptomSnomedName': ' No loose stools', 'mediusId': ''}, {'templates': [], 'symptomSnomedId': '', 'symptomSnomedName': ' No urinary complains', 'mediusId': ''}, {'templates': [], 'symptomSnomedId': '', 'symptomSnomedName': ' LMP-1/5/23', 'mediusId': ''}, {'templates': [], 'symptomSnomedId': '', 'symptomSnomedName': ' h/o travel 2-3 days back', 'mediusId': ''}], 'updatedAt': '2023-05-16T14:42:50.620Z', 'createdAt': '2023-05-16T14:42:50.620Z', 'customThree': [], 'customTwo': [], 'customOne': [], 'investigationInstructions': [], 'medicineTemplates': [], 'investigationTemplates': [], 'adviceTemplates': [], 'findings': [], 'emergencyInstructionsTemplate': [], 'emergencyInstructions': [], 'prognosis': [], 'investigations': [], 'procedures': [], 'advices': [], 'medicines': [{'medicineId': '619504', 'medicineName': 'A', 'medicineNameStrengthType': '', 'frequency': '1-0-1', 'duration': '90', 'durationIn': 'DAYS', 'instruction': 'AFTER MEAL', 'isActive': True}, {'medicineId': '619504', 'medicineName': 'B', 'medicineNameStrengthType': '', 'frequency': '1-0-1', 'duration': '90', 'durationIn': 'DAYS', 'instruction': 'AFTER MEAL', 'isActive': True}, {'medicineId': '619504', 'medicineName': 'D', 'medicineNameStrengthType': '', 'frequency': '1-0-1', 'duration': '90', 'durationIn': 'DAYS', 'instruction': 'AFTER MEAL', 'isActive': False}], 'attachments': [], 'examinationNote': [], 'disease': []}}, {'_id': 'T3R5dec', 'appointmentId': 'E4u5Ea2', 'patientDetails': {'_id': 'E4u5Ea2', 'firstName': 'Satyanaaryan', 'lastName': '', 'emailId': '', 'alternateContact': '', 'chat': {'_id': 'E4u5Ea2'}, 'customId': 'E4u5Ea2'}, 'phoneNumber': '', 'consultationData': {'adviceTemplates': [], 'advices': [], 'attachments': [], 'chiefComplaints': [], 'customOne': [], 'customThree': [], 'customTwo': [], 'disease': [], 'doctorNotes': '', 'emergencyInstructions': [], 'emergencyInstructionsTemplate': [], 'emrTemplates': [], 'examinationNote': [], 'findings': [], 'investigationInstructions': [], 'investigationTemplates': [], 'investigations': [], 'isBalicAppointment': False, 'isQuickPrescription': False, 'labTest': [], 'languageCode': 'en', 'medicineTemplates': [], 'medicines': [], 'procedures': [], 'prognosis': [], 'sharePrescription': False}}, {'_id': 'T4E7Ge6', 'appointmentId': 'T4E3e410', 'patientDetails': {'_id': 'T4E7Ge6', 'firstName': 'Nivitha', 'lastName': '', 'emailId': '', 'gender': 'F', 'birthDate': '1997-05-16T18:30:00.000Z'}, 'phoneNumber': '9184723620', 'consultationData': {'adviceTemplates': [], 'advices': [], 'attachments': [], 'chiefComplaints': [], 'customOne': [], 'customThree': [], 'customTwo': [], 'disease': [], 'doctorNotes': '', 'emergencyInstructions': [], 'emergencyInstructionsTemplate': [], 'emrTemplates': [], 'examinationNote': [], 'findings': [], 'investigationInstructions': [], 'investigationTemplates': [], 'investigations': [], 'isBalicAppointment': False, 'isQuickPrescription': False, 'labTest': [], 'languageCode': 'en', 'medicineTemplates': [], 'medicines': [{'medicineId': '619504', 'medicineName': 'B', 'medicineNameStrengthType': '', 'frequency': '1-0-1', 'duration': '90', 'durationIn': 'DAYS', 'instruction': 'AFTER MEAL', 'isActive': True}, {'medicineId': '619504', 'medicineName': 'D', 'medicineNameStrengthType': '', 'frequency': '1-0-1', 'duration': '90', 'durationIn': 'DAYS', 'instruction': 'AFTER MEAL', 'isActive': True}, {'medicineId': '619504', 'medicineName': 'C', 'medicineNameStrengthType': '', 'frequency': '1-0-1', 'duration': '90', 'durationIn': 'DAYS', 'instruction': 'AFTER MEAL', 'isActive': True}], 'procedures': [], 'prognosis': [], 'sharePrescription': False}}, {'_id': 'E5336545', 'appointmentId': '04Re22d', 'patientDetails': {'_id': '04Re22d', 'firstName': 'Tejpal', 'lastName': '', 'emailId': '', 'gender': 'M', 'birthDate': '1972-05-16T18:30:00.000Z', 'chat': {'_id': '04Re22d'}, 'customId': '04Re22d'}, 'phoneNumber': '', 'consultationData': {'adviceTemplates': [], 'advices': [], 'attachments': [], 'chiefComplaints': [{'templates': [], 'symptomSnomedId': '', 'symptomSnomedName': 'G/E', 'mediusId': ''}], 'customOne': [], 'customThree': [], 'customTwo': [], 'disease': [], 'doctorNotes': '', 'emergencyInstructions': [], 'emergencyInstructionsTemplate': [], 'emrTemplates': [], 'examinationNote': [], 'findings': [], 'investigationInstructions': [], 'investigationTemplates': [], 'investigations': [], 'isBalicAppointment': False, 'isQuickPrescription': False, 'labTest': [], 'languageCode': 'en', 'medicineTemplates': [], 'medicines': [{'medicineId': '619504', 'medicineName': 'C', 'medicineNameStrengthType': '', 'frequency': '1-0-1', 'duration': '90', 'durationIn': 'DAYS', 'instruction': 'AFTER MEAL', 'isActive': True}, {'medicineId': '619504', 'medicineName': 'A', 'medicineNameStrengthType': '', 'frequency': '1-0-1', 'duration': '90', 'durationIn': 'DAYS', 'instruction': 'AFTER MEAL', 'isActive': True}], 'procedures': [], 'prognosis': [], 'sharePrescription': False}}, {'_id': 'T7Ys58b', 'appointmentId': 'af9784hf', 'patientDetails': {'_id': 'u7dWa589', 'firstName': 'Nandhini', 'lastName': '', 'emailId': '', 'gender': 'F', 'birthDate': '2001-05-16T18:30:00.000Z'}, 'phoneNumber': '5847346075', 'consultationData': {'adviceTemplates': [], 'advices': [], 'attachments': [], 'chiefComplaints': [], 'customOne': [], 'customThree': [], 'customTwo': [], 'disease': [], 'doctorNotes': '', 'emergencyInstructions': [], 'emergencyInstructionsTemplate': [], 'emrTemplates': [], 'examinationNote': [], 'findings': [], 'investigationInstructions': [], 'investigationTemplates': [], 'investigations': [], 'isBalicAppointment': False, 'isQuickPrescription': False, 'labTest': [], 'languageCode': 'en', 'medicineTemplates': [], 'medicines': [{'medicineId': '619504', 'medicineName': 'A', 'medicineNameStrengthType': '', 'frequency': '1-0-1', 'duration': '90', 'durationIn': 'DAYS', 'instruction': 'AFTER MEAL', 'isActive': True}, {'medicineId': '619504', 'medicineName': 'C', 'medicineNameStrengthType': '', 'frequency': '1-0-1', 'duration': '90', 'durationIn': 'DAYS', 'instruction': 'AFTER MEAL', 'isActive': False}, {'medicineId': '619504', 'medicineName': 'B', 'medicineNameStrengthType': '', 'frequency': '1-0-1', 'duration': '90', 'durationIn': 'DAYS', 'instruction': 'AFTER MEAL', 'isActive': True}], 'procedures': [], 'prognosis': [], 'sharePrescription': False}}, {'_id': 'Y874Us5w', 'appointmentId': 'I8eW201', 'patientDetails': {'_id': 'TU7e913', 'firstName': 'Dhanamma', 'lastName': '', 'emailId': '', 'gender': 'F', 'chat': {'_id': 'u8e6fgd14'}, 'customId': 'y7ewr5w'}, 'phoneNumber': '9064537237', 'consultationData': {'adviceTemplates': [], 'advices': [], 'attachments': [], 'chiefComplaints': [], 'customOne': [], 'customThree': [], 'customTwo': [], 'disease': [], 'doctorNotes': '', 'emergencyInstructions': [], 'emergencyInstructionsTemplate': [], 'emrTemplates': [], 'examinationNote': [], 'findings': [], 'investigationInstructions': [], 'investigationTemplates': [], 'investigations': [], 'isBalicAppointment': False, 'isQuickPrescription': False, 'labTest': [], 'languageCode': 'en', 'medicineTemplates': [], 'medicines': [{'medicineId': '619504', 'medicineName': 'A', 'medicineNameStrengthType': '', 'frequency': '1-0-1', 'duration': '90', 'durationIn': 'DAYS', 'instruction': 'AFTER MEAL', 'isActive': False}, {'medicineId': '619504', 'medicineName': 'B', 'medicineNameStrengthType': '', 'frequency': '1-0-1', 'duration': '90', 'durationIn': 'DAYS', 'instruction': 'AFTER MEAL', 'isActive': True}, {'medicineId': '619504', 'medicineName': 'C', 'medicineNameStrengthType': '', 'frequency': '1-0-1', 'duration': '90', 'durationIn': 'DAYS', 'instruction': 'AFTER MEAL', 'isActive': True}, {'medicineId': '619504', 'medicineName': 'D', 'medicineNameStrengthType': '', 'frequency': '1-0-1', 'duration': '90', 'durationIn': 'DAYS', 'instruction': 'AFTER MEAL', 'isActive': True}], 'procedures': [], 'prognosis': [], 'sharePrescription': False}}, {'_id': 'Y7s5G42', 'appointmentId': 'f7r501cb1', 'patientDetails': {'_id': 'H8s2d40', 'firstName': 'Kushal', 'lastName': '', 'emailId': ''}, 'phoneNumber': '', 'consultationData': {'adviceTemplates': [], 'advices': [], 'attachments': [], 'chiefComplaints': [{'templates': [], 'symptomSnomedId': '', 'symptomSnomedName': 'cold', 'mediusId': ''}], 'customOne': [], 'customThree': [], 'customTwo': [], 'disease': [], 'doctorNotes': '', 'emergencyInstructions': [], 'emergencyInstructionsTemplate': [], 'emrTemplates': [], 'examinationNote': [], 'findings': [], 'investigationInstructions': [], 'investigationTemplates': [], 'investigations': [], 'isBalicAppointment': False, 'isQuickPrescription': False, 'labTest': [], 'languageCode': 'en', 'medicineTemplates': [], 'medicines': [], 'procedures': [], 'prognosis': [], 'sharePrescription': False}}, {'_id': 'Y7eE5cd8', 'appointmentId': 'cf092c8t6c', 'patientDetails': {'_id': 'u9cd6', 'phrId': '6463U8s231', 'firstName': 'Daniya', 'lastName': 'Zehra', 'emailId': '', 'gender': 'F', 'birthDate': '2001-08-27T00:00:00.000Z'}, 'phoneNumber': '992727892', 'consultationData': {'adviceTemplates': [], 'advices': [], 'attachments': [], 'chiefComplaints': [], 'customOne': [], 'customThree': [], 'customTwo': [], 'disease': [], 'doctorNotes': '', 'emergencyInstructions': [], 'emergencyInstructionsTemplate': [], 'emrTemplates': [], 'examinationNote': [], 'findings': [], 'investigationInstructions': [], 'investigationTemplates': [], 'investigations': [], 'isBalicAppointment': False, 'isQuickPrescription': False, 'labTest': [], 'languageCode': 'en', 'medicineTemplates': [], 'medicines': [{'medicineId': '619504', 'medicineName': 'D', 'medicineNameStrengthType': '', 'frequency': '1-0-1', 'duration': '90', 'durationIn': 'DAYS', 'instruction': 'AFTER MEAL', 'isActive': False}], 'procedures': [], 'prognosis': [], 'sharePrescription': False}}, {'_id': 'I9984e8', 'appointmentId': 'O02n262e', 'patientDetails': {'_id': 'Pdh97S6', 'phrId': 'Jus0480', 'firstName': 'Jay', 'lastName': 'Sharma', 'emailId': '', 'gender': 'M', 'birthDate': '1998-11-19T23:30:00.000Z'}, 'phoneNumber': '6888324121', 'consultationData': {'adviceTemplates': [], 'advices': [], 'attachments': [], 'chiefComplaints': [], 'customOne': [], 'customThree': [], 'customTwo': [], 'disease': [], 'doctorNotes': '', 'emergencyInstructions': [], 'emergencyInstructionsTemplate': [], 'emrTemplates': [], 'examinationNote': [], 'findings': [], 'investigationInstructions': [], 'investigationTemplates': [], 'investigations': [], 'isBalicAppointment': False, 'isQuickPrescription': False, 'labTest': [], 'languageCode': 'en', 'medicineTemplates': [], 'medicines': [{'medicineId': '612504', 'medicineName': 'D', 'medicineNameStrengthType': '', 'frequency': '1-0-1', 'duration': '90', 'durationIn': 'DAYS', 'instruction': 'AFTER MEAL', 'isActive': False}, {'medicineId': '612504', 'medicineName': 'D', 'medicineNameStrengthType': '', 'frequency': '1-0-1', 'duration': '90', 'durationIn': 'DAYS', 'instruction': 'AFTER MEAL', 'isActive': False}, {'medicineId': '612504', 'medicineName': 'B', 'medicineNameStrengthType': '', 'frequency': '1-0-1', 'duration': '90', 'durationIn': 'DAYS', 'instruction': 'AFTER MEAL', 'isActive': True}], 'procedures': [], 'prognosis': [], 'sharePrescription': False}}, {'_id': 'Tu78a783', 'appointmentId': '5dfN9s41', 'patientDetails': {'_id': 'h02U8a781', 'firstName': 'Preethi', 'lastName': '', 'emailId': '', 'gender': 'F', 'birthDate': '1996-05-16T18:30:00.000Z', 'chat': {'_id': 'T6h9a782'}, 'customId': 'H8NdI3MAW'}, 'phoneNumber': '8248594521', 'consultationData': {'adviceTemplates': [], 'advices': [], 'attachments': [], 'chiefComplaints': [], 'customOne': [], 'customThree': [], 'customTwo': [], 'disease': [], 'doctorNotes': '', 'emergencyInstructions': [], 'emergencyInstructionsTemplate': [], 'emrTemplates': [], 'examinationNote': [], 'findings': [], 'investigationInstructions': [], 'investigationTemplates': [], 'investigations': [], 'isBalicAppointment': False, 'isQuickPrescription': False, 'labTest': [], 'languageCode': 'en', 'medicineTemplates': [], 'medicines': [{'medicineId': '611504', 'medicineName': 'A', 'medicineNameStrengthType': '', 'frequency': '1-0-1', 'duration': '90', 'durationIn': 'DAYS', 'instruction': 'AFTER MEAL', 'isActive': True}, {'medicineId': '619504', 'medicineName': 'G', 'medicineNameStrengthType': '', 'frequency': '1-0-1', 'duration': '90', 'durationIn': 'DAYS', 'instruction': 'AFTER MEAL', 'isActive': False}, {'medicineId': '619304', 'medicineName': 'B', 'medicineNameStrengthType': '', 'frequency': '1-0-1', 'duration': '90', 'durationIn': 'DAYS', 'instruction': 'AFTER MEAL', 'isActive': True}, {'medicineId': '612504', 'medicineName': 'D', 'medicineNameStrengthType': '', 'frequency': '1-0-1', 'duration': '90', 'durationIn': 'DAYS', 'instruction': 'AFTER MEAL', 'isActive': True}], 'procedures': [], 'prognosis': [], 'sharePrescription': False}}, {'_id': 'U9D2w6c', 'appointmentId': 'cc86re0f', 'patientDetails': {'_id': 'T6h40a5ad3d8002ad9c06a', 'firstName': 'VITTHAL SHANKARRAO GHATE', 'lastName': '', 'alternateContact': '+917797689682', 'customId': '83AAWWI24W63', 'chat': {'_id': 'T6h40a1becc5002908b235'}}, 'phoneNumber': '+917938475936', 'consultationData': {'adviceTemplates': [], 'advices': [], 'attachments': [], 'chiefComplaints': [], 'customOne': [], 'customThree': [], 'customTwo': [], 'disease': [], 'doctorNotes': '', 'emergencyInstructions': [], 'emergencyInstructionsTemplate': [], 'emrTemplates': [], 'examinationNote': [], 'findings': [], 'investigationInstructions': [], 'investigationTemplates': [], 'investigations': [], 'isBalicAppointment': False, 'isQuickPrescription': False, 'labTest': [], 'languageCode': 'en', 'medicineTemplates': [], 'medicines': [{'medicineId': '612504', 'medicineName': 'A', 'medicineNameStrengthType': '', 'frequency': '1-0-1', 'duration': '90', 'durationIn': 'DAYS', 'instruction': 'AFTER MEAL', 'isActive': True}, {'medicineId': '612504', 'medicineName': 'B', 'medicineNameStrengthType': '', 'frequency': '1-0-1', 'duration': '90', 'durationIn': 'DAYS', 'instruction': 'AFTER MEAL', 'isActive': True}, {'medicineId': '612504', 'medicineName': 'C', 'medicineNameStrengthType': '', 'frequency': '1-0-1', 'duration': '90', 'durationIn': 'DAYS', 'instruction': 'AFTER MEAL', 'isActive': True}], 'procedures': [], 'prognosis': [], 'sharePrescription': False}}, {'_id': 'T6hY6sEe', 'appointmentId': 'bd99dU7', 'patientDetails': {'_id': 'Y7sHec', 'firstName': 'Naresh', 'lastName': '', 'emailId': '', 'gender': 'M', 'birthDate': '1992-05-16T18:30:00.000Z'}, 'phoneNumber': '+9124648979746', 'consultationData': {'adviceTemplates': [], 'advices': [], 'attachments': [], 'chiefComplaints': [{'templates': [], 'symptomSnomedId': '', 'symptomSnomedName': 'cough cold', 'mediusId': ''}], 'customOne': [], 'customThree': [], 'customTwo': [], 'disease': [], 'doctorNotes': '', 'emergencyInstructions': [], 'emergencyInstructionsTemplate': [], 'emrTemplates': [], 'examinationNote': [], 'findings': [], 'investigationInstructions': [], 'investigationTemplates': [], 'investigations': [], 'isBalicAppointment': False, 'isQuickPrescription': False, 'labTest': [], 'languageCode': 'en', 'medicineTemplates': [], 'medicines': [], 'procedures': [], 'prognosis': [], 'sharePrescription': False}}, {'_id': 'H7sT6c', 'appointmentId': 'bcWe50', 'patientDetails': {'_id': 'T6h408981ayf32b63bcfa', 'firstName': 'Suresh', 'lastName': 'Gaikwad', 'emailId': '', 'alternateContact': '', 'chat': {'_id': 'Hsb690S'}, 'customId': 'ABCD1419'}, 'phoneNumber': '+916883788633', 'consultationData': {'adviceTemplates': [], 'advices': [], 'attachments': [], 'chiefComplaints': [], 'customOne': [], 'customThree': [], 'customTwo': [], 'disease': [], 'doctorNotes': '', 'emergencyInstructions': [], 'emergencyInstructionsTemplate': [], 'emrTemplates': [], 'examinationNote': [], 'findings': [], 'investigationInstructions': [], 'investigationTemplates': [], 'investigations': [], 'isBalicAppointment': False, 'isQuickPrescription': False, 'labTest': [], 'languageCode': 'en', 'medicineTemplates': [], 'medicines': [{'medicineId': '612504', 'medicineName': 'D', 'medicineNameStrengthType': '', 'frequency': '1-0-1', 'duration': '90', 'durationIn': 'DAYS', 'instruction': 'AFTER MEAL', 'isActive': True}, {'medicineId': '612504', 'medicineName': 'A', 'medicineNameStrengthType': '', 'frequency': '1-0-1', 'duration': '90', 'durationIn': 'DAYS', 'instruction': 'AFTER MEAL', 'isActive': True}, {'medicineId': '612504', 'medicineName': 'E', 'medicineNameStrengthType': '', 'frequency': '1-0-1', 'duration': '90', 'durationIn': 'DAYS', 'instruction': 'AFTER MEAL', 'isActive': True}, {'medicineId': '612504', 'medicineName': 'C', 'medicineNameStrengthType': '', 'frequency': '1-0-1', 'duration': '90', 'durationIn': 'DAYS', 'instruction': 'AFTER MEAL', 'isActive': False}], 'procedures': [], 'prognosis': [], 'sharePrescription': False}}, {'_id': '8Utyd5b', 'appointmentId': '7au8se3', 'patientDetails': {'_id': 'T6U67af9', 'firstName': 'Govardhan', 'lastName': '', 'emailId': '', 'alternateContact': '', 'chat': {'_id': 'u7sg9be5a'}, 'customId': 'Gya7sfw'}, 'phoneNumber': '+916636278363', 'consultationData': {'adviceTemplates': [], 'advices': [], 'attachments': [], 'chiefComplaints': [], 'customOne': [], 'customThree': [], 'customTwo': [], 'disease': [], 'doctorNotes': '', 'emergencyInstructions': [], 'emergencyInstructionsTemplate': [], 'emrTemplates': [], 'examinationNote': [], 'findings': [], 'investigationInstructions': [], 'investigationTemplates': [], 'investigations': [], 'isBalicAppointment': False, 'isQuickPrescription': False, 'labTest': [], 'languageCode': 'en', 'medicineTemplates': [], 'medicines': [{'medicineId': '612504', 'medicineName': 'C', 'medicineNameStrengthType': '', 'frequency': '1-0-1', 'duration': '90', 'durationIn': 'DAYS', 'instruction': 'AFTER MEAL', 'isActive': False}, {'medicineId': '612504', 'medicineName': 'D', 'medicineNameStrengthType': '', 'frequency': '1-0-1', 'duration': '90', 'durationIn': 'DAYS', 'instruction': 'AFTER MEAL', 'isActive': False}], 'procedures': [], 'prognosis': [], 'sharePrescription': False}}, {'_id': 'y87Ta5c7', 'appointmentId': '432cT213', 'patientDetails': {'_id': 'R53Et5W', 'firstName': 'Rajeshwari', 'lastName': '', 'emailId': '', 'gender': 'F', 'birthDate': '1999-05-16T18:30:00.000Z', 'chat': {'_id': 'T6h2fT5535c6'}, 'customId': 'K44RwH0T'}, 'phoneNumber': '6525356535', 'consultationData': {'adviceTemplates': [], 'advices': [], 'attachments': [], 'chiefComplaints': [], 'customOne': [], 'customThree': [], 'customTwo': [], 'disease': [], 'doctorNotes': '', 'emergencyInstructions': [], 'emergencyInstructionsTemplate': [], 'emrTemplates': [], 'examinationNote': [], 'findings': [], 'investigationInstructions': [], 'investigationTemplates': [], 'investigations': [], 'isBalicAppointment': False, 'isQuickPrescription': False, 'labTest': [], 'languageCode': 'en', 'medicineTemplates': [], 'medicines': [{'medicineId': '612504', 'medicineName': 'A', 'medicineNameStrengthType': '', 'frequency': '1-0-1', 'duration': '90', 'durationIn': 'DAYS', 'instruction': 'AFTER MEAL', 'isActive': False}, {'medicineId': '612504', 'medicineName': 'C', 'medicineNameStrengthType': '', 'frequency': '1-0-1', 'duration': '90', 'durationIn': 'DAYS', 'instruction': 'AFTER MEAL', 'isActive': True}, {'medicineId': '612504', 'medicineName': 'C', 'medicineNameStrengthType': '', 'frequency': '1-0-1', 'duration': '90', 'durationIn': 'DAYS', 'instruction': 'AFTER MEAL', 'isActive': False}, {'medicineId': '612504', 'medicineName': 'D', 'medicineNameStrengthType': '', 'frequency': '1-0-1', 'duration': '90', 'durationIn': 'DAYS', 'instruction': 'AFTER MEAL', 'isActive': True}], 'procedures': [], 'prognosis': [], 'sharePrescription': False}}, {'_id': 'Ub7S65b7', 'appointmentId': 'D3fFr42c', 'patientDetails': {'_id': 'dE3r$2b5', 'firstName': 'Santosh', 'lastName': '', 'emailId': '', 'gender': 'F', 'birthDate': '1972-05-16T18:30:00.000Z'}, 'phoneNumber': '', 'consultationData': {'adviceTemplates': [], 'advices': [], 'attachments': [], 'chiefComplaints': [{'templates': [], 'symptomSnomedId': '', 'symptomSnomedName': 'stone pain', 'mediusId': ''}], 'customOne': [], 'customThree': [], 'customTwo': [], 'disease': [], 'doctorNotes': '', 'emergencyInstructions': [], 'emergencyInstructionsTemplate': [], 'emrTemplates': [], 'examinationNote': [], 'findings': [], 'investigationInstructions': [], 'investigationTemplates': [], 'investigations': [], 'isBalicAppointment': False, 'isQuickPrescription': False, 'labTest': [], 'languageCode': 'en', 'medicineTemplates': [], 'medicines': [], 'procedures': [], 'prognosis': [], 'sharePrescription': False}}, {'_id': 'yD7s2d7', 'appointmentId': '7uyT6Rs', 'patientDetails': {'_id': 'TI93Hd5', 'firstName': 'Tarachand', 'lastName': '', 'emailId': '', 'gender': 'M', 'alternateContact': '', 'birthDate': '1980-03-22T18:30:00.000Z', 'chat': {'_id': 'TH8W2d6'}, 'customId': '90hjdX2'}, 'phoneNumber': '+919093872282', 'consultationData': {'adviceTemplates': [], 'advices': [], 'attachments': [], 'chiefComplaints': [], 'customOne': [], 'customThree': [], 'customTwo': [], 'disease': [], 'doctorNotes': '', 'emergencyInstructions': [], 'emergencyInstructionsTemplate': [], 'emrTemplates': [], 'examinationNote': [], 'findings': [], 'investigationInstructions': [], 'investigationTemplates': [], 'investigations': [], 'isBalicAppointment': False, 'isQuickPrescription': False, 'labTest': [], 'languageCode': 'en', 'medicineTemplates': [], 'medicines': [{'medicineId': '612504', 'medicineName': 'A', 'medicineNameStrengthType': '', 'frequency': '1-0-1', 'duration': '90', 'durationIn': 'DAYS', 'instruction': 'AFTER MEAL', 'isActive': True}, {'medicineId': '612504', 'medicineName': 'B', 'medicineNameStrengthType': '', 'frequency': '1-0-1', 'duration': '90', 'durationIn': 'DAYS', 'instruction': 'AFTER MEAL', 'isActive': True}, {'medicineId': '612504', 'medicineName': 'C', 'medicineNameStrengthType': '', 'frequency': '1-0-1', 'duration': '90', 'durationIn': 'DAYS', 'instruction': 'AFTER MEAL', 'isActive': True}, {'medicineId': '612504', 'medicineName': 'D', 'medicineNameStrengthType': '', 'frequency': '1-0-1', 'duration': '90', 'durationIn': 'DAYS', 'instruction': 'AFTER MEAL', 'isActive': True}], 'procedures': [], 'prognosis': [], 'sharePrescription': False}}, {'_id': 'I9Sb4e8', 'appointmentId': 'O02n2e', 'patientDetails': {'_id': 'Pdh97S6', 'phrId': 'Jus0480', 'firstName': 'Jay', 'lastName': 'Sharma', 'emailId': '', 'gender': 'M', 'birthDate': '1991-11-19T23:30:00.000Z'}, 'phoneNumber': '+916888324121', 'consultationData': {'adviceTemplates': [], 'advices': [], 'attachments': [], 'chiefComplaints': [], 'customOne': [], 'customThree': [], 'customTwo': [], 'disease': [], 'doctorNotes': '', 'emergencyInstructions': [], 'emergencyInstructionsTemplate': [], 'emrTemplates': [], 'examinationNote': [], 'findings': [], 'investigationInstructions': [], 'investigationTemplates': [], 'investigations': [], 'isBalicAppointment': False, 'isQuickPrescription': False, 'labTest': [], 'languageCode': 'en', 'medicineTemplates': [], 'medicines': [{'medicineId': '612504', 'medicineName': 'A', 'medicineNameStrengthType': '', 'frequency': '1-0-1', 'duration': '90', 'durationIn': 'DAYS', 'instruction': 'AFTER MEAL', 'isActive': True}, {'medicineId': '612504', 'medicineName': 'D', 'medicineNameStrengthType': '', 'frequency': '1-0-1', 'duration': '90', 'durationIn': 'DAYS', 'instruction': 'AFTER MEAL', 'isActive': True}, {'medicineId': '612504', 'medicineName': 'D', 'medicineNameStrengthType': '', 'frequency': '1-0-1', 'duration': '90', 'durationIn': 'DAYS', 'instruction': 'AFTER MEAL', 'isActive': False}, {'medicineId': '612504', 'medicineName': 'B', 'medicineNameStrengthType': '', 'frequency': '1-0-1', 'duration': '90', 'durationIn': 'DAYS', 'instruction': 'AFTER MEAL', 'isActive': True}], 'procedures': [], 'prognosis': [], 'sharePrescription': False}}]\n"
          ]
        }
      ]
    },
    {
      "cell_type": "code",
      "source": [
        "print(df)"
      ],
      "metadata": {
        "colab": {
          "base_uri": "https://localhost:8080/"
        },
        "id": "Mb-hog1ZOdin",
        "outputId": "92ecadb0-8579-4c15-828f-91304ab5a16a"
      },
      "execution_count": 19,
      "outputs": [
        {
          "output_type": "stream",
          "name": "stdout",
          "text": [
            "         _id appointmentId     phoneNumber      patientDetails._id  \\\n",
            "0   T6hf3rb5     40d2-9c9f     96686896670               T6hb630b3   \n",
            "1   T65g3rb5      40dbtc9f      9496368916               T6h33b300   \n",
            "2   T7g6Srb5      g3Wt5c9f      7787204833                TjhB4373   \n",
            "3   94bg8W8d      fb6-a535      9376756879                 6df4R5b   \n",
            "4   T6h8H56c       67h7KL9      5267384241                lK9hy06a   \n",
            "5    T9Jh8c8        Hy7Y91   +919826374025                 kI9d5c6   \n",
            "6   9Is624b9     10dY8a-4a      7587265252                i9R324b7   \n",
            "7   T8H9c3c6      e8056Ye8      5586958767  T6h41b5ad3d8002ad9c3c4   \n",
            "8    T8Ud380     dbc0-c66b      9987602525                T9Iy347e   \n",
            "9    T345fG4        1576a7      9234354366                 T4Rb1a2   \n",
            "10  T4F6a175       b6Te4ac      4863281056                Tr4T2173   \n",
            "11   TW3r002        bu5Qfb      8687986800                  T6Wa50   \n",
            "12   6U6Ra36       86U8Y45                                 65sRa36   \n",
            "13   u7Y7Aa5       Ufd7231      7152684236                 UG67231   \n",
            "14   T3R5dec       E4u5Ea2                                 E4u5Ea2   \n",
            "15   T4E7Ge6      T4E3e410      9184723620                 T4E7Ge6   \n",
            "16  E5336545       04Re22d                                 04Re22d   \n",
            "17   T7Ys58b      af9784hf      5847346075                u7dWa589   \n",
            "18  Y874Us5w       I8eW201      9064537237                 TU7e913   \n",
            "19   Y7s5G42     f7r501cb1                                 H8s2d40   \n",
            "20  Y7eE5cd8    cf092c8t6c       992727892                   u9cd6   \n",
            "21   I9984e8      O02n262e      6888324121                 Pdh97S6   \n",
            "22  Tu78a783      5dfN9s41      8248594521               h02U8a781   \n",
            "23   U9D2w6c      cc86re0f   +917938475936  T6h40a5ad3d8002ad9c06a   \n",
            "24  T6hY6sEe       bd99dU7  +9124648979746                  Y7sHec   \n",
            "25    H7sT6c        bcWe50   +916883788633   T6h408981ayf32b63bcfa   \n",
            "26   8Utyd5b       7au8se3   +916636278363                T6U67af9   \n",
            "27  y87Ta5c7      432cT213      6525356535                 R53Et5W   \n",
            "28  Ub7S65b7      D3fFr42c                                dE3r$2b5   \n",
            "29   yD7s2d7       7uyT6Rs   +919093872282                 TI93Hd5   \n",
            "30   I9Sb4e8        O02n2e   +916888324121                 Pdh97S6   \n",
            "\n",
            "    patientDetails.firstName patientDetails.lastName patientDetails.emailId  \\\n",
            "0                        Css                                                  \n",
            "1                     Lokesh                                                  \n",
            "2                      Shila                     Das                          \n",
            "3                    Bhavika             Ben Panchal                          \n",
            "4                 Raghu Viju                                                  \n",
            "5               Dinesh Kumar                                                  \n",
            "6                      Lalit                Sankhwal                          \n",
            "7                       Ravi                                                  \n",
            "8                     Dinesh                                                  \n",
            "9                     Sanjay                                                  \n",
            "10                    Akshay                  Akshay                          \n",
            "11                   Nirmala                                                  \n",
            "12                    Satish                                                  \n",
            "13                Kalaiarasi              Kalaiarasi                          \n",
            "14              Satyanaaryan                                                  \n",
            "15                   Nivitha                                                  \n",
            "16                    Tejpal                                                  \n",
            "17                  Nandhini                                                  \n",
            "18                  Dhanamma                                                  \n",
            "19                    Kushal                                                  \n",
            "20                    Daniya                   Zehra                          \n",
            "21                       Jay                  Sharma                          \n",
            "22                   Preethi                                                  \n",
            "23  VITTHAL SHANKARRAO GHATE                                            NaN   \n",
            "24                    Naresh                                                  \n",
            "25                    Suresh                 Gaikwad                          \n",
            "26                 Govardhan                                                  \n",
            "27                Rajeshwari                                                  \n",
            "28                   Santosh                                                  \n",
            "29                 Tarachand                                                  \n",
            "30                       Jay                  Sharma                          \n",
            "\n",
            "   patientDetails.gender patientDetails.alternateContact  \\\n",
            "0                                                          \n",
            "1                      M                             NaN   \n",
            "2                    NaN                             NaN   \n",
            "3                      F                             NaN   \n",
            "4                    NaN                                   \n",
            "5                      M                             NaN   \n",
            "6                      M                                   \n",
            "7                    NaN                             NaN   \n",
            "8                      M                             NaN   \n",
            "9                      M                             NaN   \n",
            "10                     M                             NaN   \n",
            "11                     F                             NaN   \n",
            "12                   NaN                             NaN   \n",
            "13                     F                                   \n",
            "14                   NaN                                   \n",
            "15                     F                             NaN   \n",
            "16                     M                             NaN   \n",
            "17                     F                             NaN   \n",
            "18                     F                             NaN   \n",
            "19                   NaN                             NaN   \n",
            "20                     F                             NaN   \n",
            "21                     M                             NaN   \n",
            "22                     F                             NaN   \n",
            "23                   NaN                   +917797689682   \n",
            "24                     M                             NaN   \n",
            "25                   NaN                                   \n",
            "26                   NaN                                   \n",
            "27                     F                             NaN   \n",
            "28                     F                             NaN   \n",
            "29                     M                                   \n",
            "30                     M                             NaN   \n",
            "\n",
            "    patientDetails.birthDate  ... consultationData.procedures  \\\n",
            "0                       None  ...                          []   \n",
            "1   1996-05-16T18:30:00.000Z  ...                          []   \n",
            "2                        NaN  ...                          []   \n",
            "3   1988-04-24T14:30:00.000Z  ...                          []   \n",
            "4                        NaN  ...                          []   \n",
            "5   1983-05-16T18:30:00.000Z  ...                          []   \n",
            "6   2003-06-27T14:30:00.000Z  ...                          []   \n",
            "7                        NaN  ...                          []   \n",
            "8   1983-05-16T18:30:00.000Z  ...                          []   \n",
            "9   1998-05-16T18:30:00.000Z  ...                          []   \n",
            "10  1988-04-08T00:00:00.000Z  ...                          []   \n",
            "11  1971-05-16T18:30:00.000Z  ...                          []   \n",
            "12  1970-05-16T18:30:00.000Z  ...                          []   \n",
            "13  1997-07-31T00:00:00.000Z  ...                          []   \n",
            "14                       NaN  ...                          []   \n",
            "15  1997-05-16T18:30:00.000Z  ...                          []   \n",
            "16  1972-05-16T18:30:00.000Z  ...                          []   \n",
            "17  2001-05-16T18:30:00.000Z  ...                          []   \n",
            "18                       NaN  ...                          []   \n",
            "19                       NaN  ...                          []   \n",
            "20  2001-08-27T00:00:00.000Z  ...                          []   \n",
            "21  1998-11-19T23:30:00.000Z  ...                          []   \n",
            "22  1996-05-16T18:30:00.000Z  ...                          []   \n",
            "23                       NaN  ...                          []   \n",
            "24  1992-05-16T18:30:00.000Z  ...                          []   \n",
            "25                       NaN  ...                          []   \n",
            "26                       NaN  ...                          []   \n",
            "27  1999-05-16T18:30:00.000Z  ...                          []   \n",
            "28  1972-05-16T18:30:00.000Z  ...                          []   \n",
            "29  1980-03-22T18:30:00.000Z  ...                          []   \n",
            "30  1991-11-19T23:30:00.000Z  ...                          []   \n",
            "\n",
            "   consultationData.prognosis consultationData.sharePrescription  \\\n",
            "0                          []                              False   \n",
            "1                          []                              False   \n",
            "2                          []                              False   \n",
            "3                          []                              False   \n",
            "4                          []                              False   \n",
            "5                          []                              False   \n",
            "6                          []                              False   \n",
            "7                          []                              False   \n",
            "8                          []                              False   \n",
            "9                          []                              False   \n",
            "10                         []                              False   \n",
            "11                         []                              False   \n",
            "12                         []                              False   \n",
            "13                         []                              False   \n",
            "14                         []                              False   \n",
            "15                         []                              False   \n",
            "16                         []                              False   \n",
            "17                         []                              False   \n",
            "18                         []                              False   \n",
            "19                         []                              False   \n",
            "20                         []                              False   \n",
            "21                         []                              False   \n",
            "22                         []                              False   \n",
            "23                         []                              False   \n",
            "24                         []                              False   \n",
            "25                         []                              False   \n",
            "26                         []                              False   \n",
            "27                         []                              False   \n",
            "28                         []                              False   \n",
            "29                         []                              False   \n",
            "30                         []                              False   \n",
            "\n",
            "   patientDetails.phrId patientDetails.chat._id patientDetails.customId  \\\n",
            "0                   NaN                     NaN                     NaN   \n",
            "1                   NaN                     NaN                     NaN   \n",
            "2          63b5hvy614d5                     NaN                     NaN   \n",
            "3              644nig7y                     NaN                     NaN   \n",
            "4                   NaN                     NaN                     NaN   \n",
            "5                   NaN                09hUb5c7            3FPEUCW8HACJ   \n",
            "6              67Yt2b97                     NaN                     NaN   \n",
            "7                   NaN  T6h41b5ad3d8002ad9c3c5            8AV4ICI5I389   \n",
            "8                   NaN                T9IsT37f            0308MSAHYR8K   \n",
            "9                   NaN                7Yd9b1a3            8S7A3D4K4WZH   \n",
            "10              6E48U79                 Tr4W174            83AH0K04SSTV   \n",
            "11                  NaN  T6h3635ad3d8002ad9b001            832ZIS6ZCAHH   \n",
            "12                  NaN                  6Y6a36            YW883CARSES3   \n",
            "13              T6a7231                     NaN                     NaN   \n",
            "14                  NaN                 E4u5Ea2                 E4u5Ea2   \n",
            "15                  NaN                     NaN                     NaN   \n",
            "16                  NaN                 04Re22d                 04Re22d   \n",
            "17                  NaN                     NaN                     NaN   \n",
            "18                  NaN               u8e6fgd14                 y7ewr5w   \n",
            "19                  NaN                     NaN                     NaN   \n",
            "20           6463U8s231                     NaN                     NaN   \n",
            "21              Jus0480                     NaN                     NaN   \n",
            "22                  NaN                T6h9a782               H8NdI3MAW   \n",
            "23                  NaN  T6h40a1becc5002908b235            83AAWWI24W63   \n",
            "24                  NaN                     NaN                     NaN   \n",
            "25                  NaN                 Hsb690S                ABCD1419   \n",
            "26                  NaN               u7sg9be5a                 Gya7sfw   \n",
            "27                  NaN            T6h2fT5535c6                K44RwH0T   \n",
            "28                  NaN                     NaN                     NaN   \n",
            "29                  NaN                 TH8W2d6                 90hjdX2   \n",
            "30              Jus0480                     NaN                     NaN   \n",
            "\n",
            "   patientDetails.chat.channelId consultationData._id  \\\n",
            "0                            NaN                  NaN   \n",
            "1                            NaN                  NaN   \n",
            "2                            NaN                  NaN   \n",
            "3                            NaN                  NaN   \n",
            "4                            NaN                  NaN   \n",
            "5                            NaN                  NaN   \n",
            "6                            NaN                  NaN   \n",
            "7                            NaN                  NaN   \n",
            "8                            NaN                  NaN   \n",
            "9                            NaN                  NaN   \n",
            "10                      9IrR9ce7                  NaN   \n",
            "11                           NaN                  NaN   \n",
            "12                           NaN                  NaN   \n",
            "13                           NaN             6T67a6a4   \n",
            "14                           NaN                  NaN   \n",
            "15                           NaN                  NaN   \n",
            "16                           NaN                  NaN   \n",
            "17                           NaN                  NaN   \n",
            "18                           NaN                  NaN   \n",
            "19                           NaN                  NaN   \n",
            "20                           NaN                  NaN   \n",
            "21                           NaN                  NaN   \n",
            "22                           NaN                  NaN   \n",
            "23                           NaN                  NaN   \n",
            "24                           NaN                  NaN   \n",
            "25                           NaN                  NaN   \n",
            "26                           NaN                  NaN   \n",
            "27                           NaN                  NaN   \n",
            "28                           NaN                  NaN   \n",
            "29                           NaN                  NaN   \n",
            "30                           NaN                  NaN   \n",
            "\n",
            "   consultationData.updatedAt consultationData.createdAt  \n",
            "0                         NaN                        NaN  \n",
            "1                         NaN                        NaN  \n",
            "2                         NaN                        NaN  \n",
            "3                         NaN                        NaN  \n",
            "4                         NaN                        NaN  \n",
            "5                         NaN                        NaN  \n",
            "6                         NaN                        NaN  \n",
            "7                         NaN                        NaN  \n",
            "8                         NaN                        NaN  \n",
            "9                         NaN                        NaN  \n",
            "10                        NaN                        NaN  \n",
            "11                        NaN                        NaN  \n",
            "12                        NaN                        NaN  \n",
            "13   2023-05-16T14:42:50.620Z   2023-05-16T14:42:50.620Z  \n",
            "14                        NaN                        NaN  \n",
            "15                        NaN                        NaN  \n",
            "16                        NaN                        NaN  \n",
            "17                        NaN                        NaN  \n",
            "18                        NaN                        NaN  \n",
            "19                        NaN                        NaN  \n",
            "20                        NaN                        NaN  \n",
            "21                        NaN                        NaN  \n",
            "22                        NaN                        NaN  \n",
            "23                        NaN                        NaN  \n",
            "24                        NaN                        NaN  \n",
            "25                        NaN                        NaN  \n",
            "26                        NaN                        NaN  \n",
            "27                        NaN                        NaN  \n",
            "28                        NaN                        NaN  \n",
            "29                        NaN                        NaN  \n",
            "30                        NaN                        NaN  \n",
            "\n",
            "[31 rows x 43 columns]\n"
          ]
        }
      ]
    },
    {
      "cell_type": "code",
      "source": [
        "df.info()"
      ],
      "metadata": {
        "colab": {
          "base_uri": "https://localhost:8080/"
        },
        "id": "P7Av2tJ_Oe4P",
        "outputId": "7890960d-27de-4bb6-d744-943684a0b947"
      },
      "execution_count": 20,
      "outputs": [
        {
          "output_type": "stream",
          "name": "stdout",
          "text": [
            "<class 'pandas.core.frame.DataFrame'>\n",
            "RangeIndex: 31 entries, 0 to 30\n",
            "Data columns (total 43 columns):\n",
            " #   Column                                          Non-Null Count  Dtype \n",
            "---  ------                                          --------------  ----- \n",
            " 0   _id                                             31 non-null     object\n",
            " 1   appointmentId                                   31 non-null     object\n",
            " 2   phoneNumber                                     31 non-null     object\n",
            " 3   patientDetails._id                              31 non-null     object\n",
            " 4   patientDetails.firstName                        31 non-null     object\n",
            " 5   patientDetails.lastName                         31 non-null     object\n",
            " 6   patientDetails.emailId                          30 non-null     object\n",
            " 7   patientDetails.gender                           22 non-null     object\n",
            " 8   patientDetails.alternateContact                 9 non-null      object\n",
            " 9   patientDetails.birthDate                        21 non-null     object\n",
            " 10  consultationData.adviceTemplates                31 non-null     object\n",
            " 11  consultationData.advices                        31 non-null     object\n",
            " 12  consultationData.attachments                    31 non-null     object\n",
            " 13  consultationData.chiefComplaints                31 non-null     object\n",
            " 14  consultationData.customOne                      31 non-null     object\n",
            " 15  consultationData.customThree                    31 non-null     object\n",
            " 16  consultationData.customTwo                      31 non-null     object\n",
            " 17  consultationData.disease                        31 non-null     object\n",
            " 18  consultationData.doctorNotes                    31 non-null     object\n",
            " 19  consultationData.emergencyInstructions          31 non-null     object\n",
            " 20  consultationData.emergencyInstructionsTemplate  31 non-null     object\n",
            " 21  consultationData.emrTemplates                   31 non-null     object\n",
            " 22  consultationData.examinationNote                31 non-null     object\n",
            " 23  consultationData.findings                       31 non-null     object\n",
            " 24  consultationData.investigationInstructions      31 non-null     object\n",
            " 25  consultationData.investigationTemplates         31 non-null     object\n",
            " 26  consultationData.investigations                 31 non-null     object\n",
            " 27  consultationData.isBalicAppointment             31 non-null     bool  \n",
            " 28  consultationData.isQuickPrescription            31 non-null     bool  \n",
            " 29  consultationData.labTest                        31 non-null     object\n",
            " 30  consultationData.languageCode                   31 non-null     object\n",
            " 31  consultationData.medicineTemplates              31 non-null     object\n",
            " 32  consultationData.medicines                      31 non-null     object\n",
            " 33  consultationData.procedures                     31 non-null     object\n",
            " 34  consultationData.prognosis                      31 non-null     object\n",
            " 35  consultationData.sharePrescription              31 non-null     bool  \n",
            " 36  patientDetails.phrId                            8 non-null      object\n",
            " 37  patientDetails.chat._id                         16 non-null     object\n",
            " 38  patientDetails.customId                         16 non-null     object\n",
            " 39  patientDetails.chat.channelId                   1 non-null      object\n",
            " 40  consultationData._id                            1 non-null      object\n",
            " 41  consultationData.updatedAt                      1 non-null      object\n",
            " 42  consultationData.createdAt                      1 non-null      object\n",
            "dtypes: bool(3), object(40)\n",
            "memory usage: 9.9+ KB\n"
          ]
        }
      ]
    },
    {
      "cell_type": "code",
      "source": [
        "columns_to_check = ['patientDetails.firstName', 'patientDetails.lastName', 'patientDetails.birthDate']\n",
        "\n",
        "# Calculate the percentage of missing values for each column\n",
        "missing_percentages = df[columns_to_check].apply(lambda col: col.isin(['', None]).mean() * 100).round(2)\n",
        "\n",
        "# Print the results\n",
        "print(missing_percentages)"
      ],
      "metadata": {
        "colab": {
          "base_uri": "https://localhost:8080/"
        },
        "id": "2bGjr77dO2Fd",
        "outputId": "988d0744-9b52-46d9-8df0-ac301d0f570e"
      },
      "execution_count": 21,
      "outputs": [
        {
          "output_type": "stream",
          "name": "stdout",
          "text": [
            "patientDetails.firstName     0.00\n",
            "patientDetails.lastName     70.97\n",
            "patientDetails.birthDate     3.23\n",
            "dtype: float64\n"
          ]
        }
      ]
    },
    {
      "cell_type": "code",
      "source": [
        "df.isnull(patientDetails.firstName)"
      ],
      "metadata": {
        "colab": {
          "base_uri": "https://localhost:8080/",
          "height": 141
        },
        "id": "jDBpQ68oPE26",
        "outputId": "b832c745-b114-4569-bd73-385b6678049a"
      },
      "execution_count": 22,
      "outputs": [
        {
          "output_type": "error",
          "ename": "NameError",
          "evalue": "name 'patientDetails' is not defined",
          "traceback": [
            "\u001b[0;31m---------------------------------------------------------------------------\u001b[0m",
            "\u001b[0;31mNameError\u001b[0m                                 Traceback (most recent call last)",
            "\u001b[0;32m<ipython-input-22-759de2f2d3e0>\u001b[0m in \u001b[0;36m<cell line: 1>\u001b[0;34m()\u001b[0m\n\u001b[0;32m----> 1\u001b[0;31m \u001b[0mdf\u001b[0m\u001b[0;34m.\u001b[0m\u001b[0misnull\u001b[0m\u001b[0;34m(\u001b[0m\u001b[0mpatientDetails\u001b[0m\u001b[0;34m.\u001b[0m\u001b[0mfirstName\u001b[0m\u001b[0;34m)\u001b[0m\u001b[0;34m\u001b[0m\u001b[0;34m\u001b[0m\u001b[0m\n\u001b[0m",
            "\u001b[0;31mNameError\u001b[0m: name 'patientDetails' is not defined"
          ]
        }
      ]
    },
    {
      "cell_type": "code",
      "source": [
        "mode_gender = df['gender'].mode()[0]\n",
        "df['gender'].fillna(mode_gender, inplace=True)\n",
        "\n",
        "# Calculate the percentage of females\n",
        "total_count = df.shape[0]\n",
        "female_count = df[df['gender'] == 'female'].shape[0]\n",
        "female_percentage = (female_count / total_count) * 100\n",
        "\n",
        "# Print the result\n",
        "print(f\"Percentage of females after imputation: {female_percentage:.2f}%\")"
      ],
      "metadata": {
        "colab": {
          "base_uri": "https://localhost:8080/",
          "height": 477
        },
        "id": "rAL2fA2ePwfG",
        "outputId": "d5c545cc-4e17-40ab-dcd4-78d08e137497"
      },
      "execution_count": 23,
      "outputs": [
        {
          "output_type": "error",
          "ename": "KeyError",
          "evalue": "'gender'",
          "traceback": [
            "\u001b[0;31m---------------------------------------------------------------------------\u001b[0m",
            "\u001b[0;31mKeyError\u001b[0m                                  Traceback (most recent call last)",
            "\u001b[0;32m/usr/local/lib/python3.10/dist-packages/pandas/core/indexes/base.py\u001b[0m in \u001b[0;36mget_loc\u001b[0;34m(self, key)\u001b[0m\n\u001b[1;32m   3652\u001b[0m         \u001b[0;32mtry\u001b[0m\u001b[0;34m:\u001b[0m\u001b[0;34m\u001b[0m\u001b[0;34m\u001b[0m\u001b[0m\n\u001b[0;32m-> 3653\u001b[0;31m             \u001b[0;32mreturn\u001b[0m \u001b[0mself\u001b[0m\u001b[0;34m.\u001b[0m\u001b[0m_engine\u001b[0m\u001b[0;34m.\u001b[0m\u001b[0mget_loc\u001b[0m\u001b[0;34m(\u001b[0m\u001b[0mcasted_key\u001b[0m\u001b[0;34m)\u001b[0m\u001b[0;34m\u001b[0m\u001b[0;34m\u001b[0m\u001b[0m\n\u001b[0m\u001b[1;32m   3654\u001b[0m         \u001b[0;32mexcept\u001b[0m \u001b[0mKeyError\u001b[0m \u001b[0;32mas\u001b[0m \u001b[0merr\u001b[0m\u001b[0;34m:\u001b[0m\u001b[0;34m\u001b[0m\u001b[0;34m\u001b[0m\u001b[0m\n",
            "\u001b[0;32m/usr/local/lib/python3.10/dist-packages/pandas/_libs/index.pyx\u001b[0m in \u001b[0;36mpandas._libs.index.IndexEngine.get_loc\u001b[0;34m()\u001b[0m\n",
            "\u001b[0;32m/usr/local/lib/python3.10/dist-packages/pandas/_libs/index.pyx\u001b[0m in \u001b[0;36mpandas._libs.index.IndexEngine.get_loc\u001b[0;34m()\u001b[0m\n",
            "\u001b[0;32mpandas/_libs/hashtable_class_helper.pxi\u001b[0m in \u001b[0;36mpandas._libs.hashtable.PyObjectHashTable.get_item\u001b[0;34m()\u001b[0m\n",
            "\u001b[0;32mpandas/_libs/hashtable_class_helper.pxi\u001b[0m in \u001b[0;36mpandas._libs.hashtable.PyObjectHashTable.get_item\u001b[0;34m()\u001b[0m\n",
            "\u001b[0;31mKeyError\u001b[0m: 'gender'",
            "\nThe above exception was the direct cause of the following exception:\n",
            "\u001b[0;31mKeyError\u001b[0m                                  Traceback (most recent call last)",
            "\u001b[0;32m<ipython-input-23-8e0f974be4a5>\u001b[0m in \u001b[0;36m<cell line: 1>\u001b[0;34m()\u001b[0m\n\u001b[0;32m----> 1\u001b[0;31m \u001b[0mmode_gender\u001b[0m \u001b[0;34m=\u001b[0m \u001b[0mdf\u001b[0m\u001b[0;34m[\u001b[0m\u001b[0;34m'gender'\u001b[0m\u001b[0;34m]\u001b[0m\u001b[0;34m.\u001b[0m\u001b[0mmode\u001b[0m\u001b[0;34m(\u001b[0m\u001b[0;34m)\u001b[0m\u001b[0;34m[\u001b[0m\u001b[0;36m0\u001b[0m\u001b[0;34m]\u001b[0m\u001b[0;34m\u001b[0m\u001b[0;34m\u001b[0m\u001b[0m\n\u001b[0m\u001b[1;32m      2\u001b[0m \u001b[0mdf\u001b[0m\u001b[0;34m[\u001b[0m\u001b[0;34m'gender'\u001b[0m\u001b[0;34m]\u001b[0m\u001b[0;34m.\u001b[0m\u001b[0mfillna\u001b[0m\u001b[0;34m(\u001b[0m\u001b[0mmode_gender\u001b[0m\u001b[0;34m,\u001b[0m \u001b[0minplace\u001b[0m\u001b[0;34m=\u001b[0m\u001b[0;32mTrue\u001b[0m\u001b[0;34m)\u001b[0m\u001b[0;34m\u001b[0m\u001b[0;34m\u001b[0m\u001b[0m\n\u001b[1;32m      3\u001b[0m \u001b[0;34m\u001b[0m\u001b[0m\n\u001b[1;32m      4\u001b[0m \u001b[0;31m# Calculate the percentage of females\u001b[0m\u001b[0;34m\u001b[0m\u001b[0;34m\u001b[0m\u001b[0m\n\u001b[1;32m      5\u001b[0m \u001b[0mtotal_count\u001b[0m \u001b[0;34m=\u001b[0m \u001b[0mdf\u001b[0m\u001b[0;34m.\u001b[0m\u001b[0mshape\u001b[0m\u001b[0;34m[\u001b[0m\u001b[0;36m0\u001b[0m\u001b[0;34m]\u001b[0m\u001b[0;34m\u001b[0m\u001b[0;34m\u001b[0m\u001b[0m\n",
            "\u001b[0;32m/usr/local/lib/python3.10/dist-packages/pandas/core/frame.py\u001b[0m in \u001b[0;36m__getitem__\u001b[0;34m(self, key)\u001b[0m\n\u001b[1;32m   3759\u001b[0m             \u001b[0;32mif\u001b[0m \u001b[0mself\u001b[0m\u001b[0;34m.\u001b[0m\u001b[0mcolumns\u001b[0m\u001b[0;34m.\u001b[0m\u001b[0mnlevels\u001b[0m \u001b[0;34m>\u001b[0m \u001b[0;36m1\u001b[0m\u001b[0;34m:\u001b[0m\u001b[0;34m\u001b[0m\u001b[0;34m\u001b[0m\u001b[0m\n\u001b[1;32m   3760\u001b[0m                 \u001b[0;32mreturn\u001b[0m \u001b[0mself\u001b[0m\u001b[0;34m.\u001b[0m\u001b[0m_getitem_multilevel\u001b[0m\u001b[0;34m(\u001b[0m\u001b[0mkey\u001b[0m\u001b[0;34m)\u001b[0m\u001b[0;34m\u001b[0m\u001b[0;34m\u001b[0m\u001b[0m\n\u001b[0;32m-> 3761\u001b[0;31m             \u001b[0mindexer\u001b[0m \u001b[0;34m=\u001b[0m \u001b[0mself\u001b[0m\u001b[0;34m.\u001b[0m\u001b[0mcolumns\u001b[0m\u001b[0;34m.\u001b[0m\u001b[0mget_loc\u001b[0m\u001b[0;34m(\u001b[0m\u001b[0mkey\u001b[0m\u001b[0;34m)\u001b[0m\u001b[0;34m\u001b[0m\u001b[0;34m\u001b[0m\u001b[0m\n\u001b[0m\u001b[1;32m   3762\u001b[0m             \u001b[0;32mif\u001b[0m \u001b[0mis_integer\u001b[0m\u001b[0;34m(\u001b[0m\u001b[0mindexer\u001b[0m\u001b[0;34m)\u001b[0m\u001b[0;34m:\u001b[0m\u001b[0;34m\u001b[0m\u001b[0;34m\u001b[0m\u001b[0m\n\u001b[1;32m   3763\u001b[0m                 \u001b[0mindexer\u001b[0m \u001b[0;34m=\u001b[0m \u001b[0;34m[\u001b[0m\u001b[0mindexer\u001b[0m\u001b[0;34m]\u001b[0m\u001b[0;34m\u001b[0m\u001b[0;34m\u001b[0m\u001b[0m\n",
            "\u001b[0;32m/usr/local/lib/python3.10/dist-packages/pandas/core/indexes/base.py\u001b[0m in \u001b[0;36mget_loc\u001b[0;34m(self, key)\u001b[0m\n\u001b[1;32m   3653\u001b[0m             \u001b[0;32mreturn\u001b[0m \u001b[0mself\u001b[0m\u001b[0;34m.\u001b[0m\u001b[0m_engine\u001b[0m\u001b[0;34m.\u001b[0m\u001b[0mget_loc\u001b[0m\u001b[0;34m(\u001b[0m\u001b[0mcasted_key\u001b[0m\u001b[0;34m)\u001b[0m\u001b[0;34m\u001b[0m\u001b[0;34m\u001b[0m\u001b[0m\n\u001b[1;32m   3654\u001b[0m         \u001b[0;32mexcept\u001b[0m \u001b[0mKeyError\u001b[0m \u001b[0;32mas\u001b[0m \u001b[0merr\u001b[0m\u001b[0;34m:\u001b[0m\u001b[0;34m\u001b[0m\u001b[0;34m\u001b[0m\u001b[0m\n\u001b[0;32m-> 3655\u001b[0;31m             \u001b[0;32mraise\u001b[0m \u001b[0mKeyError\u001b[0m\u001b[0;34m(\u001b[0m\u001b[0mkey\u001b[0m\u001b[0;34m)\u001b[0m \u001b[0;32mfrom\u001b[0m \u001b[0merr\u001b[0m\u001b[0;34m\u001b[0m\u001b[0;34m\u001b[0m\u001b[0m\n\u001b[0m\u001b[1;32m   3656\u001b[0m         \u001b[0;32mexcept\u001b[0m \u001b[0mTypeError\u001b[0m\u001b[0;34m:\u001b[0m\u001b[0;34m\u001b[0m\u001b[0;34m\u001b[0m\u001b[0m\n\u001b[1;32m   3657\u001b[0m             \u001b[0;31m# If we have a listlike key, _check_indexing_error will raise\u001b[0m\u001b[0;34m\u001b[0m\u001b[0;34m\u001b[0m\u001b[0m\n",
            "\u001b[0;31mKeyError\u001b[0m: 'gender'"
          ]
        }
      ]
    },
    {
      "cell_type": "code",
      "source": [
        "import pandas as pd\n",
        "\n",
        "# Function to calculate age from birth date\n",
        "def calculate_age(birth_date):\n",
        "    if pd.isna(birth_date):\n",
        "        return None\n",
        "    return pd.Timestamp.now().year - pd.Timestamp(birth_date).year\n",
        "\n",
        "# Function to categorize age into groups\n",
        "def categorize_age(age):\n",
        "    if pd.isna(age):\n",
        "        return None\n",
        "    if age <= 12:\n",
        "        return 'Child'\n",
        "    elif age <= 19:\n",
        "        return 'Teen'\n",
        "    elif age <= 59:\n",
        "        return 'Adult'\n",
        "    else:\n",
        "        return 'Senior'\n",
        "\n",
        "# Assuming df is your DataFrame\n",
        "# Calculate age and add 'age' column\n",
        "df['age'] = df['patientDetails.birthDate'].apply(calculate_age)\n",
        "\n",
        "# Add 'ageGroup' column\n",
        "df['ageGroup'] = df['age'].apply(categorize_age)\n",
        "\n",
        "# Drop the 'age' column as it was only needed for the calculation\n",
        "df.drop(columns=['age'], inplace=True)\n",
        "\n",
        "# Get the count of 'Adult' patients\n",
        "adult_count = df['ageGroup'].value_counts().get('Adult', 0)\n",
        "\n",
        "# Display the count of 'Adult'\n",
        "print(f\"Count of Adult: {adult_count}\")\n"
      ],
      "metadata": {
        "colab": {
          "base_uri": "https://localhost:8080/"
        },
        "id": "CP-BTJ2qRu30",
        "outputId": "572e5e18-0efb-4514-e0a3-70a09f587c07"
      },
      "execution_count": 25,
      "outputs": [
        {
          "output_type": "stream",
          "name": "stdout",
          "text": [
            "Count of Adult: 21\n"
          ]
        }
      ]
    },
    {
      "cell_type": "code",
      "source": [
        "\n",
        "df['num_medicines'] = df['consultationData.medicines'].apply(len)\n",
        "\n",
        "average_medicines = df['num_medicines'].mean()\n",
        "\n",
        "print(f\"Average number of medicines prescribed: {average_medicines:.2f}\")\n"
      ],
      "metadata": {
        "colab": {
          "base_uri": "https://localhost:8080/"
        },
        "id": "6BoNDz-OSfpt",
        "outputId": "a34184f1-56d7-4ac5-90f4-1a1c7f3535a8"
      },
      "execution_count": 26,
      "outputs": [
        {
          "output_type": "stream",
          "name": "stdout",
          "text": [
            "Average number of medicines prescribed: 2.13\n"
          ]
        }
      ]
    },
    {
      "cell_type": "code",
      "source": [
        "df['consultationData.medicines']"
      ],
      "metadata": {
        "colab": {
          "base_uri": "https://localhost:8080/"
        },
        "id": "yZBG2S4GTgBf",
        "outputId": "5e1638a6-716a-478c-d8c3-6b4d5cebb2a5"
      },
      "execution_count": 33,
      "outputs": [
        {
          "output_type": "execute_result",
          "data": {
            "text/plain": [
              "0     [{'medicineId': '619404', 'medicineName': 'A',...\n",
              "1     [{'medicineId': '619404', 'medicineName': 'A',...\n",
              "2     [{'medicineId': '619404', 'medicineName': 'B',...\n",
              "3     [{'medicineId': '619704', 'medicineName': 'B',...\n",
              "4     [{'medicineId': '619384', 'medicineName': 'D',...\n",
              "5     [{'medicineId': '643404', 'medicineName': 'A',...\n",
              "6     [{'medicineId': '632304', 'medicineName': 'D',...\n",
              "7     [{'medicineId': '619404', 'medicineName': 'A',...\n",
              "8     [{'medicineId': '619504', 'medicineName': 'E',...\n",
              "9                                                    []\n",
              "10    [{'medicineId': '619504', 'medicineName': 'E',...\n",
              "11    [{'medicineId': '619504', 'medicineName': 'E',...\n",
              "12                                                   []\n",
              "13    [{'medicineId': '619504', 'medicineName': 'A',...\n",
              "14                                                   []\n",
              "15    [{'medicineId': '619504', 'medicineName': 'B',...\n",
              "16    [{'medicineId': '619504', 'medicineName': 'C',...\n",
              "17    [{'medicineId': '619504', 'medicineName': 'A',...\n",
              "18    [{'medicineId': '619504', 'medicineName': 'A',...\n",
              "19                                                   []\n",
              "20    [{'medicineId': '619504', 'medicineName': 'D',...\n",
              "21    [{'medicineId': '612504', 'medicineName': 'D',...\n",
              "22    [{'medicineId': '611504', 'medicineName': 'A',...\n",
              "23    [{'medicineId': '612504', 'medicineName': 'A',...\n",
              "24                                                   []\n",
              "25    [{'medicineId': '612504', 'medicineName': 'D',...\n",
              "26    [{'medicineId': '612504', 'medicineName': 'C',...\n",
              "27    [{'medicineId': '612504', 'medicineName': 'A',...\n",
              "28                                                   []\n",
              "29    [{'medicineId': '612504', 'medicineName': 'A',...\n",
              "30    [{'medicineId': '612504', 'medicineName': 'A',...\n",
              "Name: consultationData.medicines, dtype: object"
            ]
          },
          "metadata": {},
          "execution_count": 33
        }
      ]
    },
    {
      "cell_type": "code",
      "source": [
        "pd.set_option('display.max_colwidth', None)\n"
      ],
      "metadata": {
        "id": "ijo_pWVcUYVV"
      },
      "execution_count": 34,
      "outputs": []
    },
    {
      "cell_type": "code",
      "source": [
        "\n",
        "all_medicines = df['consultationData.medicines'].explode()\n",
        "\n",
        "# Count the frequency of each medicine\n",
        "medicine_counts = all_medicines.value_counts()\n",
        "\n",
        "# Get the 3rd most frequently prescribed medicine\n",
        "third_most_frequent = medicine_counts.index[2] if len(medicine_counts) >= 3 else None\n",
        "\n",
        "# Display the 3rd most frequently prescribed medicine\n",
        "print(f\"3rd most frequently prescribed medicine: {third_most_frequent}\")\n"
      ],
      "metadata": {
        "colab": {
          "base_uri": "https://localhost:8080/"
        },
        "id": "IW69Ys_VTANA",
        "outputId": "e652b8f4-a88d-467d-d477-40fbbd12ad68"
      },
      "execution_count": 35,
      "outputs": [
        {
          "output_type": "stream",
          "name": "stdout",
          "text": [
            "3rd most frequently prescribed medicine: {'medicineId': '612504', 'medicineName': 'B', 'medicineNameStrengthType': '', 'frequency': '1-0-1', 'duration': '90', 'durationIn': 'DAYS', 'instruction': 'AFTER MEAL', 'isActive': True}\n"
          ]
        }
      ]
    },
    {
      "cell_type": "code",
      "source": [
        "\n",
        "\n",
        "total_medicines = df['consultationData.medicines']['isActive'].count()\n",
        "\n",
        "medicine_counts = df['medicineStatus'].value_counts()\n",
        "\n",
        "percentage_distribution = (medicine_counts / total_medicines) * 100\n",
        "\n",
        "# Display the percentage distribution\n",
        "print(\"Percentage distribution of medicines:\")\n",
        "print(f\"Active: {percentage_distribution.get('Active', 0):.2f}%\")\n",
        "print(f\"Inactive: {percentage_distribution.get('Inactive', 0):.2f}%\")\n"
      ],
      "metadata": {
        "colab": {
          "base_uri": "https://localhost:8080/",
          "height": 304
        },
        "id": "c7HPfJEeTMSQ",
        "outputId": "df78b4df-e46b-47f6-a500-ced31e208326"
      },
      "execution_count": 39,
      "outputs": [
        {
          "output_type": "stream",
          "name": "stdout",
          "text": [
            "Percentage distribution of medicines:\n"
          ]
        },
        {
          "output_type": "error",
          "ename": "TypeError",
          "evalue": "unhashable type: 'list'",
          "traceback": [
            "\u001b[0;31m---------------------------------------------------------------------------\u001b[0m",
            "\u001b[0;31mTypeError\u001b[0m                                 Traceback (most recent call last)",
            "\u001b[0;32m<ipython-input-39-1cc45f0f7d0a>\u001b[0m in \u001b[0;36m<cell line: 9>\u001b[0;34m()\u001b[0m\n\u001b[1;32m      7\u001b[0m \u001b[0;31m# Display the percentage distribution\u001b[0m\u001b[0;34m\u001b[0m\u001b[0;34m\u001b[0m\u001b[0m\n\u001b[1;32m      8\u001b[0m \u001b[0mprint\u001b[0m\u001b[0;34m(\u001b[0m\u001b[0;34m\"Percentage distribution of medicines:\"\u001b[0m\u001b[0;34m)\u001b[0m\u001b[0;34m\u001b[0m\u001b[0;34m\u001b[0m\u001b[0m\n\u001b[0;32m----> 9\u001b[0;31m \u001b[0mprint\u001b[0m\u001b[0;34m(\u001b[0m\u001b[0;34mf\"Active: {percentage_distribution.get('Active', 0):.2f}%\"\u001b[0m\u001b[0;34m)\u001b[0m\u001b[0;34m\u001b[0m\u001b[0;34m\u001b[0m\u001b[0m\n\u001b[0m\u001b[1;32m     10\u001b[0m \u001b[0mprint\u001b[0m\u001b[0;34m(\u001b[0m\u001b[0;34mf\"Inactive: {percentage_distribution.get('Inactive', 0):.2f}%\"\u001b[0m\u001b[0;34m)\u001b[0m\u001b[0;34m\u001b[0m\u001b[0;34m\u001b[0m\u001b[0m\n",
            "\u001b[0;32m/usr/local/lib/python3.10/dist-packages/pandas/core/generic.py\u001b[0m in \u001b[0;36mget\u001b[0;34m(self, key, default)\u001b[0m\n\u001b[1;32m   4352\u001b[0m         \"\"\"\n\u001b[1;32m   4353\u001b[0m         \u001b[0;32mtry\u001b[0m\u001b[0;34m:\u001b[0m\u001b[0;34m\u001b[0m\u001b[0;34m\u001b[0m\u001b[0m\n\u001b[0;32m-> 4354\u001b[0;31m             \u001b[0;32mreturn\u001b[0m \u001b[0mself\u001b[0m\u001b[0;34m[\u001b[0m\u001b[0mkey\u001b[0m\u001b[0;34m]\u001b[0m\u001b[0;34m\u001b[0m\u001b[0;34m\u001b[0m\u001b[0m\n\u001b[0m\u001b[1;32m   4355\u001b[0m         \u001b[0;32mexcept\u001b[0m \u001b[0;34m(\u001b[0m\u001b[0mKeyError\u001b[0m\u001b[0;34m,\u001b[0m \u001b[0mValueError\u001b[0m\u001b[0;34m,\u001b[0m \u001b[0mIndexError\u001b[0m\u001b[0;34m)\u001b[0m\u001b[0;34m:\u001b[0m\u001b[0;34m\u001b[0m\u001b[0;34m\u001b[0m\u001b[0m\n\u001b[1;32m   4356\u001b[0m             \u001b[0;32mreturn\u001b[0m \u001b[0mdefault\u001b[0m\u001b[0;34m\u001b[0m\u001b[0;34m\u001b[0m\u001b[0m\n",
            "\u001b[0;32m/usr/local/lib/python3.10/dist-packages/pandas/core/series.py\u001b[0m in \u001b[0;36m__getitem__\u001b[0;34m(self, key)\u001b[0m\n\u001b[1;32m   1005\u001b[0m \u001b[0;34m\u001b[0m\u001b[0m\n\u001b[1;32m   1006\u001b[0m         \u001b[0;32melif\u001b[0m \u001b[0mkey_is_scalar\u001b[0m\u001b[0;34m:\u001b[0m\u001b[0;34m\u001b[0m\u001b[0;34m\u001b[0m\u001b[0m\n\u001b[0;32m-> 1007\u001b[0;31m             \u001b[0;32mreturn\u001b[0m \u001b[0mself\u001b[0m\u001b[0;34m.\u001b[0m\u001b[0m_get_value\u001b[0m\u001b[0;34m(\u001b[0m\u001b[0mkey\u001b[0m\u001b[0;34m)\u001b[0m\u001b[0;34m\u001b[0m\u001b[0;34m\u001b[0m\u001b[0m\n\u001b[0m\u001b[1;32m   1008\u001b[0m \u001b[0;34m\u001b[0m\u001b[0m\n\u001b[1;32m   1009\u001b[0m         \u001b[0;32mif\u001b[0m \u001b[0mis_hashable\u001b[0m\u001b[0;34m(\u001b[0m\u001b[0mkey\u001b[0m\u001b[0;34m)\u001b[0m\u001b[0;34m:\u001b[0m\u001b[0;34m\u001b[0m\u001b[0;34m\u001b[0m\u001b[0m\n",
            "\u001b[0;32m/usr/local/lib/python3.10/dist-packages/pandas/core/series.py\u001b[0m in \u001b[0;36m_get_value\u001b[0;34m(self, label, takeable)\u001b[0m\n\u001b[1;32m   1114\u001b[0m \u001b[0;34m\u001b[0m\u001b[0m\n\u001b[1;32m   1115\u001b[0m         \u001b[0;31m# Similar to Index.get_value, but we do not fall back to positional\u001b[0m\u001b[0;34m\u001b[0m\u001b[0;34m\u001b[0m\u001b[0m\n\u001b[0;32m-> 1116\u001b[0;31m         \u001b[0mloc\u001b[0m \u001b[0;34m=\u001b[0m \u001b[0mself\u001b[0m\u001b[0;34m.\u001b[0m\u001b[0mindex\u001b[0m\u001b[0;34m.\u001b[0m\u001b[0mget_loc\u001b[0m\u001b[0;34m(\u001b[0m\u001b[0mlabel\u001b[0m\u001b[0;34m)\u001b[0m\u001b[0;34m\u001b[0m\u001b[0;34m\u001b[0m\u001b[0m\n\u001b[0m\u001b[1;32m   1117\u001b[0m \u001b[0;34m\u001b[0m\u001b[0m\n\u001b[1;32m   1118\u001b[0m         \u001b[0;32mif\u001b[0m \u001b[0mis_integer\u001b[0m\u001b[0;34m(\u001b[0m\u001b[0mloc\u001b[0m\u001b[0;34m)\u001b[0m\u001b[0;34m:\u001b[0m\u001b[0;34m\u001b[0m\u001b[0;34m\u001b[0m\u001b[0m\n",
            "\u001b[0;32m/usr/local/lib/python3.10/dist-packages/pandas/core/indexes/base.py\u001b[0m in \u001b[0;36mget_loc\u001b[0;34m(self, key)\u001b[0m\n\u001b[1;32m   3651\u001b[0m         \u001b[0mcasted_key\u001b[0m \u001b[0;34m=\u001b[0m \u001b[0mself\u001b[0m\u001b[0;34m.\u001b[0m\u001b[0m_maybe_cast_indexer\u001b[0m\u001b[0;34m(\u001b[0m\u001b[0mkey\u001b[0m\u001b[0;34m)\u001b[0m\u001b[0;34m\u001b[0m\u001b[0;34m\u001b[0m\u001b[0m\n\u001b[1;32m   3652\u001b[0m         \u001b[0;32mtry\u001b[0m\u001b[0;34m:\u001b[0m\u001b[0;34m\u001b[0m\u001b[0;34m\u001b[0m\u001b[0m\n\u001b[0;32m-> 3653\u001b[0;31m             \u001b[0;32mreturn\u001b[0m \u001b[0mself\u001b[0m\u001b[0;34m.\u001b[0m\u001b[0m_engine\u001b[0m\u001b[0;34m.\u001b[0m\u001b[0mget_loc\u001b[0m\u001b[0;34m(\u001b[0m\u001b[0mcasted_key\u001b[0m\u001b[0;34m)\u001b[0m\u001b[0;34m\u001b[0m\u001b[0;34m\u001b[0m\u001b[0m\n\u001b[0m\u001b[1;32m   3654\u001b[0m         \u001b[0;32mexcept\u001b[0m \u001b[0mKeyError\u001b[0m \u001b[0;32mas\u001b[0m \u001b[0merr\u001b[0m\u001b[0;34m:\u001b[0m\u001b[0;34m\u001b[0m\u001b[0;34m\u001b[0m\u001b[0m\n\u001b[1;32m   3655\u001b[0m             \u001b[0;32mraise\u001b[0m \u001b[0mKeyError\u001b[0m\u001b[0;34m(\u001b[0m\u001b[0mkey\u001b[0m\u001b[0;34m)\u001b[0m \u001b[0;32mfrom\u001b[0m \u001b[0merr\u001b[0m\u001b[0;34m\u001b[0m\u001b[0;34m\u001b[0m\u001b[0m\n",
            "\u001b[0;32m/usr/local/lib/python3.10/dist-packages/pandas/_libs/index.pyx\u001b[0m in \u001b[0;36mpandas._libs.index.IndexEngine.get_loc\u001b[0;34m()\u001b[0m\n",
            "\u001b[0;32m/usr/local/lib/python3.10/dist-packages/pandas/_libs/index.pyx\u001b[0m in \u001b[0;36mpandas._libs.index.IndexEngine.get_loc\u001b[0;34m()\u001b[0m\n",
            "\u001b[0;32m/usr/local/lib/python3.10/dist-packages/pandas/_libs/index.pyx\u001b[0m in \u001b[0;36mpandas._libs.index.IndexEngine._ensure_mapping_populated\u001b[0;34m()\u001b[0m\n",
            "\u001b[0;32mpandas/_libs/hashtable_class_helper.pxi\u001b[0m in \u001b[0;36mpandas._libs.hashtable.PyObjectHashTable.map_locations\u001b[0;34m()\u001b[0m\n",
            "\u001b[0;31mTypeError\u001b[0m: unhashable type: 'list'"
          ]
        }
      ]
    },
    {
      "cell_type": "code",
      "source": [
        "medicines = df['consultationData.medicines'].explode()\n",
        "medicines_df = pd.json_normalize(medicines)\n",
        "\n",
        "# Count total medicines\n",
        "total_medicines = medicines_df.shape[0]\n",
        "\n",
        "# Count the number of active and inactive medicines\n",
        "medicine_counts = medicines_df['isActive'].value_counts()\n",
        "\n",
        "# Calculate the percentage distribution\n",
        "percentage_distribution = (medicine_counts / total_medicines) * 100\n",
        "\n",
        "# Display the percentage distribution\n",
        "print(\"Percentage distribution of medicines:\")\n",
        "print(f\"Active: {percentage_distribution.get(True, 0):.2f}%\")\n",
        "print(f\"Inactive: {percentage_distribution.get(False, 0):.2f}%\")"
      ],
      "metadata": {
        "colab": {
          "base_uri": "https://localhost:8080/"
        },
        "id": "q_ysJQb0Tv2N",
        "outputId": "990aeaeb-607b-4511-dc42-f8db270de89b"
      },
      "execution_count": 40,
      "outputs": [
        {
          "output_type": "stream",
          "name": "stdout",
          "text": [
            "Percentage distribution of medicines:\n",
            "Active: 63.89%\n",
            "Inactive: 27.78%\n"
          ]
        }
      ]
    },
    {
      "cell_type": "code",
      "source": [
        "\n",
        "\n",
        "def is_valid_indian_phone_number(phone_number):\n",
        "    # Remove spaces and other non-numeric characters except '+'\n",
        "    phone_number = phone_number.strip()\n",
        "\n",
        "    # Check if the phone number starts with '+91' or '91' and strip it\n",
        "    if phone_number.startswith('+91'):\n",
        "        phone_number = phone_number[3:]\n",
        "    elif phone_number.startswith('91'):\n",
        "        phone_number = phone_number[2:]\n",
        "\n",
        "    # Validate if the length of the phone number is exactly 10 digits\n",
        "    if phone_number.isdigit() and len(phone_number) == 10:\n",
        "        # Convert to integer to check range\n",
        "        number = int(phone_number)\n",
        "        return 6000000000 <= number <= 9999999999\n",
        "    return False\n",
        "\n",
        "# Apply the validation function to the 'phoneNumber' column\n",
        "df['isValidMobile'] = df['phoneNumber'].apply(is_valid_indian_phone_number)\n",
        "\n",
        "# Count the number of valid phone numbers\n",
        "valid_count = df['isValidMobile'].sum()\n",
        "\n",
        "# Display the DataFrame and the count of valid phone numbers\n",
        "print(df)\n",
        "print(f\"Number of valid phone numbers: {valid_count}\")\n"
      ],
      "metadata": {
        "colab": {
          "base_uri": "https://localhost:8080/"
        },
        "id": "VZx_rhXRVQhB",
        "outputId": "d54aa9bc-4d3a-4deb-ba7c-d3c27b2720f7"
      },
      "execution_count": 41,
      "outputs": [
        {
          "output_type": "stream",
          "name": "stdout",
          "text": [
            "         _id appointmentId     phoneNumber      patientDetails._id  \\\n",
            "0   T6hf3rb5     40d2-9c9f     96686896670               T6hb630b3   \n",
            "1   T65g3rb5      40dbtc9f      9496368916               T6h33b300   \n",
            "2   T7g6Srb5      g3Wt5c9f      7787204833                TjhB4373   \n",
            "3   94bg8W8d      fb6-a535      9376756879                 6df4R5b   \n",
            "4   T6h8H56c       67h7KL9      5267384241                lK9hy06a   \n",
            "5    T9Jh8c8        Hy7Y91   +919826374025                 kI9d5c6   \n",
            "6   9Is624b9     10dY8a-4a      7587265252                i9R324b7   \n",
            "7   T8H9c3c6      e8056Ye8      5586958767  T6h41b5ad3d8002ad9c3c4   \n",
            "8    T8Ud380     dbc0-c66b      9987602525                T9Iy347e   \n",
            "9    T345fG4        1576a7      9234354366                 T4Rb1a2   \n",
            "10  T4F6a175       b6Te4ac      4863281056                Tr4T2173   \n",
            "11   TW3r002        bu5Qfb      8687986800                  T6Wa50   \n",
            "12   6U6Ra36       86U8Y45                                 65sRa36   \n",
            "13   u7Y7Aa5       Ufd7231      7152684236                 UG67231   \n",
            "14   T3R5dec       E4u5Ea2                                 E4u5Ea2   \n",
            "15   T4E7Ge6      T4E3e410      9184723620                 T4E7Ge6   \n",
            "16  E5336545       04Re22d                                 04Re22d   \n",
            "17   T7Ys58b      af9784hf      5847346075                u7dWa589   \n",
            "18  Y874Us5w       I8eW201      9064537237                 TU7e913   \n",
            "19   Y7s5G42     f7r501cb1                                 H8s2d40   \n",
            "20  Y7eE5cd8    cf092c8t6c       992727892                   u9cd6   \n",
            "21   I9984e8      O02n262e      6888324121                 Pdh97S6   \n",
            "22  Tu78a783      5dfN9s41      8248594521               h02U8a781   \n",
            "23   U9D2w6c      cc86re0f   +917938475936  T6h40a5ad3d8002ad9c06a   \n",
            "24  T6hY6sEe       bd99dU7  +9124648979746                  Y7sHec   \n",
            "25    H7sT6c        bcWe50   +916883788633   T6h408981ayf32b63bcfa   \n",
            "26   8Utyd5b       7au8se3   +916636278363                T6U67af9   \n",
            "27  y87Ta5c7      432cT213      6525356535                 R53Et5W   \n",
            "28  Ub7S65b7      D3fFr42c                                dE3r$2b5   \n",
            "29   yD7s2d7       7uyT6Rs   +919093872282                 TI93Hd5   \n",
            "30   I9Sb4e8        O02n2e   +916888324121                 Pdh97S6   \n",
            "\n",
            "    patientDetails.firstName patientDetails.lastName patientDetails.emailId  \\\n",
            "0                        Css                                                  \n",
            "1                     Lokesh                                                  \n",
            "2                      Shila                     Das                          \n",
            "3                    Bhavika             Ben Panchal                          \n",
            "4                 Raghu Viju                                                  \n",
            "5               Dinesh Kumar                                                  \n",
            "6                      Lalit                Sankhwal                          \n",
            "7                       Ravi                                                  \n",
            "8                     Dinesh                                                  \n",
            "9                     Sanjay                                                  \n",
            "10                    Akshay                  Akshay                          \n",
            "11                   Nirmala                                                  \n",
            "12                    Satish                                                  \n",
            "13                Kalaiarasi              Kalaiarasi                          \n",
            "14              Satyanaaryan                                                  \n",
            "15                   Nivitha                                                  \n",
            "16                    Tejpal                                                  \n",
            "17                  Nandhini                                                  \n",
            "18                  Dhanamma                                                  \n",
            "19                    Kushal                                                  \n",
            "20                    Daniya                   Zehra                          \n",
            "21                       Jay                  Sharma                          \n",
            "22                   Preethi                                                  \n",
            "23  VITTHAL SHANKARRAO GHATE                                            NaN   \n",
            "24                    Naresh                                                  \n",
            "25                    Suresh                 Gaikwad                          \n",
            "26                 Govardhan                                                  \n",
            "27                Rajeshwari                                                  \n",
            "28                   Santosh                                                  \n",
            "29                 Tarachand                                                  \n",
            "30                       Jay                  Sharma                          \n",
            "\n",
            "   patientDetails.gender patientDetails.alternateContact  \\\n",
            "0                                                          \n",
            "1                      M                             NaN   \n",
            "2                    NaN                             NaN   \n",
            "3                      F                             NaN   \n",
            "4                    NaN                                   \n",
            "5                      M                             NaN   \n",
            "6                      M                                   \n",
            "7                    NaN                             NaN   \n",
            "8                      M                             NaN   \n",
            "9                      M                             NaN   \n",
            "10                     M                             NaN   \n",
            "11                     F                             NaN   \n",
            "12                   NaN                             NaN   \n",
            "13                     F                                   \n",
            "14                   NaN                                   \n",
            "15                     F                             NaN   \n",
            "16                     M                             NaN   \n",
            "17                     F                             NaN   \n",
            "18                     F                             NaN   \n",
            "19                   NaN                             NaN   \n",
            "20                     F                             NaN   \n",
            "21                     M                             NaN   \n",
            "22                     F                             NaN   \n",
            "23                   NaN                   +917797689682   \n",
            "24                     M                             NaN   \n",
            "25                   NaN                                   \n",
            "26                   NaN                                   \n",
            "27                     F                             NaN   \n",
            "28                     F                             NaN   \n",
            "29                     M                                   \n",
            "30                     M                             NaN   \n",
            "\n",
            "    patientDetails.birthDate  ... patientDetails.phrId  \\\n",
            "0                       None  ...                  NaN   \n",
            "1   1996-05-16T18:30:00.000Z  ...                  NaN   \n",
            "2                        NaN  ...         63b5hvy614d5   \n",
            "3   1988-04-24T14:30:00.000Z  ...             644nig7y   \n",
            "4                        NaN  ...                  NaN   \n",
            "5   1983-05-16T18:30:00.000Z  ...                  NaN   \n",
            "6   2003-06-27T14:30:00.000Z  ...             67Yt2b97   \n",
            "7                        NaN  ...                  NaN   \n",
            "8   1983-05-16T18:30:00.000Z  ...                  NaN   \n",
            "9   1998-05-16T18:30:00.000Z  ...                  NaN   \n",
            "10  1988-04-08T00:00:00.000Z  ...              6E48U79   \n",
            "11  1971-05-16T18:30:00.000Z  ...                  NaN   \n",
            "12  1970-05-16T18:30:00.000Z  ...                  NaN   \n",
            "13  1997-07-31T00:00:00.000Z  ...              T6a7231   \n",
            "14                       NaN  ...                  NaN   \n",
            "15  1997-05-16T18:30:00.000Z  ...                  NaN   \n",
            "16  1972-05-16T18:30:00.000Z  ...                  NaN   \n",
            "17  2001-05-16T18:30:00.000Z  ...                  NaN   \n",
            "18                       NaN  ...                  NaN   \n",
            "19                       NaN  ...                  NaN   \n",
            "20  2001-08-27T00:00:00.000Z  ...           6463U8s231   \n",
            "21  1998-11-19T23:30:00.000Z  ...              Jus0480   \n",
            "22  1996-05-16T18:30:00.000Z  ...                  NaN   \n",
            "23                       NaN  ...                  NaN   \n",
            "24  1992-05-16T18:30:00.000Z  ...                  NaN   \n",
            "25                       NaN  ...                  NaN   \n",
            "26                       NaN  ...                  NaN   \n",
            "27  1999-05-16T18:30:00.000Z  ...                  NaN   \n",
            "28  1972-05-16T18:30:00.000Z  ...                  NaN   \n",
            "29  1980-03-22T18:30:00.000Z  ...                  NaN   \n",
            "30  1991-11-19T23:30:00.000Z  ...              Jus0480   \n",
            "\n",
            "   patientDetails.chat._id patientDetails.customId  \\\n",
            "0                      NaN                     NaN   \n",
            "1                      NaN                     NaN   \n",
            "2                      NaN                     NaN   \n",
            "3                      NaN                     NaN   \n",
            "4                      NaN                     NaN   \n",
            "5                 09hUb5c7            3FPEUCW8HACJ   \n",
            "6                      NaN                     NaN   \n",
            "7   T6h41b5ad3d8002ad9c3c5            8AV4ICI5I389   \n",
            "8                 T9IsT37f            0308MSAHYR8K   \n",
            "9                 7Yd9b1a3            8S7A3D4K4WZH   \n",
            "10                 Tr4W174            83AH0K04SSTV   \n",
            "11  T6h3635ad3d8002ad9b001            832ZIS6ZCAHH   \n",
            "12                  6Y6a36            YW883CARSES3   \n",
            "13                     NaN                     NaN   \n",
            "14                 E4u5Ea2                 E4u5Ea2   \n",
            "15                     NaN                     NaN   \n",
            "16                 04Re22d                 04Re22d   \n",
            "17                     NaN                     NaN   \n",
            "18               u8e6fgd14                 y7ewr5w   \n",
            "19                     NaN                     NaN   \n",
            "20                     NaN                     NaN   \n",
            "21                     NaN                     NaN   \n",
            "22                T6h9a782               H8NdI3MAW   \n",
            "23  T6h40a1becc5002908b235            83AAWWI24W63   \n",
            "24                     NaN                     NaN   \n",
            "25                 Hsb690S                ABCD1419   \n",
            "26               u7sg9be5a                 Gya7sfw   \n",
            "27            T6h2fT5535c6                K44RwH0T   \n",
            "28                     NaN                     NaN   \n",
            "29                 TH8W2d6                 90hjdX2   \n",
            "30                     NaN                     NaN   \n",
            "\n",
            "   patientDetails.chat.channelId consultationData._id  \\\n",
            "0                            NaN                  NaN   \n",
            "1                            NaN                  NaN   \n",
            "2                            NaN                  NaN   \n",
            "3                            NaN                  NaN   \n",
            "4                            NaN                  NaN   \n",
            "5                            NaN                  NaN   \n",
            "6                            NaN                  NaN   \n",
            "7                            NaN                  NaN   \n",
            "8                            NaN                  NaN   \n",
            "9                            NaN                  NaN   \n",
            "10                      9IrR9ce7                  NaN   \n",
            "11                           NaN                  NaN   \n",
            "12                           NaN                  NaN   \n",
            "13                           NaN             6T67a6a4   \n",
            "14                           NaN                  NaN   \n",
            "15                           NaN                  NaN   \n",
            "16                           NaN                  NaN   \n",
            "17                           NaN                  NaN   \n",
            "18                           NaN                  NaN   \n",
            "19                           NaN                  NaN   \n",
            "20                           NaN                  NaN   \n",
            "21                           NaN                  NaN   \n",
            "22                           NaN                  NaN   \n",
            "23                           NaN                  NaN   \n",
            "24                           NaN                  NaN   \n",
            "25                           NaN                  NaN   \n",
            "26                           NaN                  NaN   \n",
            "27                           NaN                  NaN   \n",
            "28                           NaN                  NaN   \n",
            "29                           NaN                  NaN   \n",
            "30                           NaN                  NaN   \n",
            "\n",
            "   consultationData.updatedAt consultationData.createdAt ageGroup  \\\n",
            "0                         NaN                        NaN     None   \n",
            "1                         NaN                        NaN    Adult   \n",
            "2                         NaN                        NaN     None   \n",
            "3                         NaN                        NaN    Adult   \n",
            "4                         NaN                        NaN     None   \n",
            "5                         NaN                        NaN    Adult   \n",
            "6                         NaN                        NaN    Adult   \n",
            "7                         NaN                        NaN     None   \n",
            "8                         NaN                        NaN    Adult   \n",
            "9                         NaN                        NaN    Adult   \n",
            "10                        NaN                        NaN    Adult   \n",
            "11                        NaN                        NaN    Adult   \n",
            "12                        NaN                        NaN    Adult   \n",
            "13   2023-05-16T14:42:50.620Z   2023-05-16T14:42:50.620Z    Adult   \n",
            "14                        NaN                        NaN     None   \n",
            "15                        NaN                        NaN    Adult   \n",
            "16                        NaN                        NaN    Adult   \n",
            "17                        NaN                        NaN    Adult   \n",
            "18                        NaN                        NaN     None   \n",
            "19                        NaN                        NaN     None   \n",
            "20                        NaN                        NaN    Adult   \n",
            "21                        NaN                        NaN    Adult   \n",
            "22                        NaN                        NaN    Adult   \n",
            "23                        NaN                        NaN     None   \n",
            "24                        NaN                        NaN    Adult   \n",
            "25                        NaN                        NaN     None   \n",
            "26                        NaN                        NaN     None   \n",
            "27                        NaN                        NaN    Adult   \n",
            "28                        NaN                        NaN    Adult   \n",
            "29                        NaN                        NaN    Adult   \n",
            "30                        NaN                        NaN    Adult   \n",
            "\n",
            "   num_medicines isValidMobile  \n",
            "0              2         False  \n",
            "1              2          True  \n",
            "2              3          True  \n",
            "3              1          True  \n",
            "4              2         False  \n",
            "5              4          True  \n",
            "6              2          True  \n",
            "7              1         False  \n",
            "8              1          True  \n",
            "9              0          True  \n",
            "10             1         False  \n",
            "11             3          True  \n",
            "12             0         False  \n",
            "13             3          True  \n",
            "14             0         False  \n",
            "15             3         False  \n",
            "16             2         False  \n",
            "17             3         False  \n",
            "18             4          True  \n",
            "19             0         False  \n",
            "20             1         False  \n",
            "21             3          True  \n",
            "22             4          True  \n",
            "23             3          True  \n",
            "24             0         False  \n",
            "25             4          True  \n",
            "26             2          True  \n",
            "27             4          True  \n",
            "28             0         False  \n",
            "29             4          True  \n",
            "30             4          True  \n",
            "\n",
            "[31 rows x 46 columns]\n",
            "Number of valid phone numbers: 18\n"
          ]
        }
      ]
    },
    {
      "cell_type": "code",
      "source": [
        "from datetime import datetime\n",
        "\n",
        "def calculate_age(birthdate):\n",
        "    today = datetime.now()\n",
        "    birthdate = datetime.strptime(birthdate, '%Y-%m-%d')\n",
        "    age = today.year - birthdate.year - ((today.month, today.day) < (birthdate.month, birthdate.day))\n",
        "    return age\n",
        "\n",
        "# Calculate age for each patient\n",
        "df['age'] = df['patientDetails.birthDate'].apply(calculate_age)\n",
        "\n",
        "# Calculate the number of prescribed medicines for each patient\n",
        "df['num_medicines'] = df['consultationData.medicines'].apply(len)\n",
        "\n",
        "# Compute the Pearson correlation\n",
        "correlation = df['num_medicines'].corr(df['age'])\n",
        "\n",
        "# Display the correlation rounded to 2 decimal places\n",
        "print(f\"Pearson correlation between number of prescribed medicines and patient's age: {correlation:.2f}\")"
      ],
      "metadata": {
        "colab": {
          "base_uri": "https://localhost:8080/",
          "height": 356
        },
        "id": "uTSerSAqVn9v",
        "outputId": "c9e688db-0e50-4705-dc88-79d1982c2970"
      },
      "execution_count": 44,
      "outputs": [
        {
          "output_type": "error",
          "ename": "TypeError",
          "evalue": "strptime() argument 1 must be str, not None",
          "traceback": [
            "\u001b[0;31m---------------------------------------------------------------------------\u001b[0m",
            "\u001b[0;31mTypeError\u001b[0m                                 Traceback (most recent call last)",
            "\u001b[0;32m<ipython-input-44-94724b344ef1>\u001b[0m in \u001b[0;36m<cell line: 10>\u001b[0;34m()\u001b[0m\n\u001b[1;32m      8\u001b[0m \u001b[0;34m\u001b[0m\u001b[0m\n\u001b[1;32m      9\u001b[0m \u001b[0;31m# Calculate age for each patient\u001b[0m\u001b[0;34m\u001b[0m\u001b[0;34m\u001b[0m\u001b[0m\n\u001b[0;32m---> 10\u001b[0;31m \u001b[0mdf\u001b[0m\u001b[0;34m[\u001b[0m\u001b[0;34m'age'\u001b[0m\u001b[0;34m]\u001b[0m \u001b[0;34m=\u001b[0m \u001b[0mdf\u001b[0m\u001b[0;34m[\u001b[0m\u001b[0;34m'patientDetails.birthDate'\u001b[0m\u001b[0;34m]\u001b[0m\u001b[0;34m.\u001b[0m\u001b[0mapply\u001b[0m\u001b[0;34m(\u001b[0m\u001b[0mcalculate_age\u001b[0m\u001b[0;34m)\u001b[0m\u001b[0;34m\u001b[0m\u001b[0;34m\u001b[0m\u001b[0m\n\u001b[0m\u001b[1;32m     11\u001b[0m \u001b[0;34m\u001b[0m\u001b[0m\n\u001b[1;32m     12\u001b[0m \u001b[0;31m# Calculate the number of prescribed medicines for each patient\u001b[0m\u001b[0;34m\u001b[0m\u001b[0;34m\u001b[0m\u001b[0m\n",
            "\u001b[0;32m/usr/local/lib/python3.10/dist-packages/pandas/core/series.py\u001b[0m in \u001b[0;36mapply\u001b[0;34m(self, func, convert_dtype, args, **kwargs)\u001b[0m\n\u001b[1;32m   4628\u001b[0m         \u001b[0mdtype\u001b[0m\u001b[0;34m:\u001b[0m \u001b[0mfloat64\u001b[0m\u001b[0;34m\u001b[0m\u001b[0;34m\u001b[0m\u001b[0m\n\u001b[1;32m   4629\u001b[0m         \"\"\"\n\u001b[0;32m-> 4630\u001b[0;31m         \u001b[0;32mreturn\u001b[0m \u001b[0mSeriesApply\u001b[0m\u001b[0;34m(\u001b[0m\u001b[0mself\u001b[0m\u001b[0;34m,\u001b[0m \u001b[0mfunc\u001b[0m\u001b[0;34m,\u001b[0m \u001b[0mconvert_dtype\u001b[0m\u001b[0;34m,\u001b[0m \u001b[0margs\u001b[0m\u001b[0;34m,\u001b[0m \u001b[0mkwargs\u001b[0m\u001b[0;34m)\u001b[0m\u001b[0;34m.\u001b[0m\u001b[0mapply\u001b[0m\u001b[0;34m(\u001b[0m\u001b[0;34m)\u001b[0m\u001b[0;34m\u001b[0m\u001b[0;34m\u001b[0m\u001b[0m\n\u001b[0m\u001b[1;32m   4631\u001b[0m \u001b[0;34m\u001b[0m\u001b[0m\n\u001b[1;32m   4632\u001b[0m     def _reduce(\n",
            "\u001b[0;32m/usr/local/lib/python3.10/dist-packages/pandas/core/apply.py\u001b[0m in \u001b[0;36mapply\u001b[0;34m(self)\u001b[0m\n\u001b[1;32m   1023\u001b[0m \u001b[0;34m\u001b[0m\u001b[0m\n\u001b[1;32m   1024\u001b[0m         \u001b[0;31m# self.f is Callable\u001b[0m\u001b[0;34m\u001b[0m\u001b[0;34m\u001b[0m\u001b[0m\n\u001b[0;32m-> 1025\u001b[0;31m         \u001b[0;32mreturn\u001b[0m \u001b[0mself\u001b[0m\u001b[0;34m.\u001b[0m\u001b[0mapply_standard\u001b[0m\u001b[0;34m(\u001b[0m\u001b[0;34m)\u001b[0m\u001b[0;34m\u001b[0m\u001b[0;34m\u001b[0m\u001b[0m\n\u001b[0m\u001b[1;32m   1026\u001b[0m \u001b[0;34m\u001b[0m\u001b[0m\n\u001b[1;32m   1027\u001b[0m     \u001b[0;32mdef\u001b[0m \u001b[0magg\u001b[0m\u001b[0;34m(\u001b[0m\u001b[0mself\u001b[0m\u001b[0;34m)\u001b[0m\u001b[0;34m:\u001b[0m\u001b[0;34m\u001b[0m\u001b[0;34m\u001b[0m\u001b[0m\n",
            "\u001b[0;32m/usr/local/lib/python3.10/dist-packages/pandas/core/apply.py\u001b[0m in \u001b[0;36mapply_standard\u001b[0;34m(self)\u001b[0m\n\u001b[1;32m   1074\u001b[0m             \u001b[0;32melse\u001b[0m\u001b[0;34m:\u001b[0m\u001b[0;34m\u001b[0m\u001b[0;34m\u001b[0m\u001b[0m\n\u001b[1;32m   1075\u001b[0m                 \u001b[0mvalues\u001b[0m \u001b[0;34m=\u001b[0m \u001b[0mobj\u001b[0m\u001b[0;34m.\u001b[0m\u001b[0mastype\u001b[0m\u001b[0;34m(\u001b[0m\u001b[0mobject\u001b[0m\u001b[0;34m)\u001b[0m\u001b[0;34m.\u001b[0m\u001b[0m_values\u001b[0m\u001b[0;34m\u001b[0m\u001b[0;34m\u001b[0m\u001b[0m\n\u001b[0;32m-> 1076\u001b[0;31m                 mapped = lib.map_infer(\n\u001b[0m\u001b[1;32m   1077\u001b[0m                     \u001b[0mvalues\u001b[0m\u001b[0;34m,\u001b[0m\u001b[0;34m\u001b[0m\u001b[0;34m\u001b[0m\u001b[0m\n\u001b[1;32m   1078\u001b[0m                     \u001b[0mf\u001b[0m\u001b[0;34m,\u001b[0m\u001b[0;34m\u001b[0m\u001b[0;34m\u001b[0m\u001b[0m\n",
            "\u001b[0;32m/usr/local/lib/python3.10/dist-packages/pandas/_libs/lib.pyx\u001b[0m in \u001b[0;36mpandas._libs.lib.map_infer\u001b[0;34m()\u001b[0m\n",
            "\u001b[0;32m<ipython-input-44-94724b344ef1>\u001b[0m in \u001b[0;36mcalculate_age\u001b[0;34m(birthdate)\u001b[0m\n\u001b[1;32m      3\u001b[0m \u001b[0;32mdef\u001b[0m \u001b[0mcalculate_age\u001b[0m\u001b[0;34m(\u001b[0m\u001b[0mbirthdate\u001b[0m\u001b[0;34m)\u001b[0m\u001b[0;34m:\u001b[0m\u001b[0;34m\u001b[0m\u001b[0;34m\u001b[0m\u001b[0m\n\u001b[1;32m      4\u001b[0m     \u001b[0mtoday\u001b[0m \u001b[0;34m=\u001b[0m \u001b[0mdatetime\u001b[0m\u001b[0;34m.\u001b[0m\u001b[0mnow\u001b[0m\u001b[0;34m(\u001b[0m\u001b[0;34m)\u001b[0m\u001b[0;34m\u001b[0m\u001b[0;34m\u001b[0m\u001b[0m\n\u001b[0;32m----> 5\u001b[0;31m     \u001b[0mbirthdate\u001b[0m \u001b[0;34m=\u001b[0m \u001b[0mdatetime\u001b[0m\u001b[0;34m.\u001b[0m\u001b[0mstrptime\u001b[0m\u001b[0;34m(\u001b[0m\u001b[0mbirthdate\u001b[0m\u001b[0;34m,\u001b[0m \u001b[0;34m'%Y-%m-%d'\u001b[0m\u001b[0;34m)\u001b[0m\u001b[0;34m\u001b[0m\u001b[0;34m\u001b[0m\u001b[0m\n\u001b[0m\u001b[1;32m      6\u001b[0m     \u001b[0mage\u001b[0m \u001b[0;34m=\u001b[0m \u001b[0mtoday\u001b[0m\u001b[0;34m.\u001b[0m\u001b[0myear\u001b[0m \u001b[0;34m-\u001b[0m \u001b[0mbirthdate\u001b[0m\u001b[0;34m.\u001b[0m\u001b[0myear\u001b[0m \u001b[0;34m-\u001b[0m \u001b[0;34m(\u001b[0m\u001b[0;34m(\u001b[0m\u001b[0mtoday\u001b[0m\u001b[0;34m.\u001b[0m\u001b[0mmonth\u001b[0m\u001b[0;34m,\u001b[0m \u001b[0mtoday\u001b[0m\u001b[0;34m.\u001b[0m\u001b[0mday\u001b[0m\u001b[0;34m)\u001b[0m \u001b[0;34m<\u001b[0m \u001b[0;34m(\u001b[0m\u001b[0mbirthdate\u001b[0m\u001b[0;34m.\u001b[0m\u001b[0mmonth\u001b[0m\u001b[0;34m,\u001b[0m \u001b[0mbirthdate\u001b[0m\u001b[0;34m.\u001b[0m\u001b[0mday\u001b[0m\u001b[0;34m)\u001b[0m\u001b[0;34m)\u001b[0m\u001b[0;34m\u001b[0m\u001b[0;34m\u001b[0m\u001b[0m\n\u001b[1;32m      7\u001b[0m     \u001b[0;32mreturn\u001b[0m \u001b[0mage\u001b[0m\u001b[0;34m\u001b[0m\u001b[0;34m\u001b[0m\u001b[0m\n",
            "\u001b[0;31mTypeError\u001b[0m: strptime() argument 1 must be str, not None"
          ]
        }
      ]
    },
    {
      "cell_type": "code",
      "source": [
        "def calculate_age(birthdate):\n",
        "    if pd.isna(birthdate) or birthdate ==\"None\" or birthdate==\"NaN\":\n",
        "        return None\n",
        "    try:\n",
        "        today = datetime.now()\n",
        "        birthdate = datetime.strptime(birthdate, '%Y-%m-%d')\n",
        "        age = today.year - birthdate.year - ((today.month, today.day) < (birthdate.month, birthdate.day))\n",
        "        return age\n",
        "    except ValueError:\n",
        "        return None\n",
        "\n",
        "df['age'] = df['patientDetails.birthDate'].apply(calculate_age)\n",
        "\n",
        "df = df.dropna(subset=['age'])\n",
        "\n",
        "df['num_medicines'] = df['consultationData.medicines'].apply(len)\n",
        "\n",
        "correlation = df['num_medicines'].corr(df['age'])\n",
        "\n",
        "print(f\"Pearson correlation between number of prescribed medicines and patient's age: {correlation:.2f}\")"
      ],
      "metadata": {
        "colab": {
          "base_uri": "https://localhost:8080/"
        },
        "id": "GNCy3werV6kb",
        "outputId": "7ad9b8e7-cb86-479e-af10-43ada7526c91"
      },
      "execution_count": 45,
      "outputs": [
        {
          "output_type": "stream",
          "name": "stdout",
          "text": [
            "Pearson correlation between number of prescribed medicines and patient's age: nan\n"
          ]
        }
      ]
    },
    {
      "cell_type": "code",
      "source": [
        "def calculate_age(birthdate):\n",
        "    if pd.isna(birthdate) or birthdate == \"None\" or birthdate == \"NaN\":\n",
        "        return np.nan\n",
        "    birthdate = datetime.strptime(birthdate, \"%Y-%m-%dT%H:%M:%S.%fZ\")\n",
        "    today = datetime.today()\n",
        "    return today.year - birthdate.year - ((today.month, today.day) < (birthdate.month, birthdate.day))\n",
        "\n",
        "# Calculate ages\n",
        "df['age'] = df['birthDate'].apply(calculate_age)\n",
        "\n",
        "# Count the number of prescribed medicines\n",
        "df['num_medicines'] = df['procedures'].apply(len)\n",
        "\n",
        "# Drop rows with NaN values in 'age' or 'num_medicines'\n",
        "df = df.dropna(subset=['age', 'num_medicines'])\n",
        "\n",
        "# Calculate Pearson correlation\n",
        "correlation = df['age'].corr(df['num_medicines'])"
      ],
      "metadata": {
        "colab": {
          "base_uri": "https://localhost:8080/",
          "height": 477
        },
        "id": "1y2lZYSdWmLY",
        "outputId": "567da9a8-ed7c-4254-de13-756c5e1c9b91"
      },
      "execution_count": 46,
      "outputs": [
        {
          "output_type": "error",
          "ename": "KeyError",
          "evalue": "'birthDate'",
          "traceback": [
            "\u001b[0;31m---------------------------------------------------------------------------\u001b[0m",
            "\u001b[0;31mKeyError\u001b[0m                                  Traceback (most recent call last)",
            "\u001b[0;32m/usr/local/lib/python3.10/dist-packages/pandas/core/indexes/base.py\u001b[0m in \u001b[0;36mget_loc\u001b[0;34m(self, key)\u001b[0m\n\u001b[1;32m   3652\u001b[0m         \u001b[0;32mtry\u001b[0m\u001b[0;34m:\u001b[0m\u001b[0;34m\u001b[0m\u001b[0;34m\u001b[0m\u001b[0m\n\u001b[0;32m-> 3653\u001b[0;31m             \u001b[0;32mreturn\u001b[0m \u001b[0mself\u001b[0m\u001b[0;34m.\u001b[0m\u001b[0m_engine\u001b[0m\u001b[0;34m.\u001b[0m\u001b[0mget_loc\u001b[0m\u001b[0;34m(\u001b[0m\u001b[0mcasted_key\u001b[0m\u001b[0;34m)\u001b[0m\u001b[0;34m\u001b[0m\u001b[0;34m\u001b[0m\u001b[0m\n\u001b[0m\u001b[1;32m   3654\u001b[0m         \u001b[0;32mexcept\u001b[0m \u001b[0mKeyError\u001b[0m \u001b[0;32mas\u001b[0m \u001b[0merr\u001b[0m\u001b[0;34m:\u001b[0m\u001b[0;34m\u001b[0m\u001b[0;34m\u001b[0m\u001b[0m\n",
            "\u001b[0;32m/usr/local/lib/python3.10/dist-packages/pandas/_libs/index.pyx\u001b[0m in \u001b[0;36mpandas._libs.index.IndexEngine.get_loc\u001b[0;34m()\u001b[0m\n",
            "\u001b[0;32m/usr/local/lib/python3.10/dist-packages/pandas/_libs/index.pyx\u001b[0m in \u001b[0;36mpandas._libs.index.IndexEngine.get_loc\u001b[0;34m()\u001b[0m\n",
            "\u001b[0;32mpandas/_libs/hashtable_class_helper.pxi\u001b[0m in \u001b[0;36mpandas._libs.hashtable.PyObjectHashTable.get_item\u001b[0;34m()\u001b[0m\n",
            "\u001b[0;32mpandas/_libs/hashtable_class_helper.pxi\u001b[0m in \u001b[0;36mpandas._libs.hashtable.PyObjectHashTable.get_item\u001b[0;34m()\u001b[0m\n",
            "\u001b[0;31mKeyError\u001b[0m: 'birthDate'",
            "\nThe above exception was the direct cause of the following exception:\n",
            "\u001b[0;31mKeyError\u001b[0m                                  Traceback (most recent call last)",
            "\u001b[0;32m<ipython-input-46-54886007fd3d>\u001b[0m in \u001b[0;36m<cell line: 9>\u001b[0;34m()\u001b[0m\n\u001b[1;32m      7\u001b[0m \u001b[0;34m\u001b[0m\u001b[0m\n\u001b[1;32m      8\u001b[0m \u001b[0;31m# Calculate ages\u001b[0m\u001b[0;34m\u001b[0m\u001b[0;34m\u001b[0m\u001b[0m\n\u001b[0;32m----> 9\u001b[0;31m \u001b[0mdf\u001b[0m\u001b[0;34m[\u001b[0m\u001b[0;34m'age'\u001b[0m\u001b[0;34m]\u001b[0m \u001b[0;34m=\u001b[0m \u001b[0mdf\u001b[0m\u001b[0;34m[\u001b[0m\u001b[0;34m'birthDate'\u001b[0m\u001b[0;34m]\u001b[0m\u001b[0;34m.\u001b[0m\u001b[0mapply\u001b[0m\u001b[0;34m(\u001b[0m\u001b[0mcalculate_age\u001b[0m\u001b[0;34m)\u001b[0m\u001b[0;34m\u001b[0m\u001b[0;34m\u001b[0m\u001b[0m\n\u001b[0m\u001b[1;32m     10\u001b[0m \u001b[0;34m\u001b[0m\u001b[0m\n\u001b[1;32m     11\u001b[0m \u001b[0;31m# Count the number of prescribed medicines\u001b[0m\u001b[0;34m\u001b[0m\u001b[0;34m\u001b[0m\u001b[0m\n",
            "\u001b[0;32m/usr/local/lib/python3.10/dist-packages/pandas/core/frame.py\u001b[0m in \u001b[0;36m__getitem__\u001b[0;34m(self, key)\u001b[0m\n\u001b[1;32m   3759\u001b[0m             \u001b[0;32mif\u001b[0m \u001b[0mself\u001b[0m\u001b[0;34m.\u001b[0m\u001b[0mcolumns\u001b[0m\u001b[0;34m.\u001b[0m\u001b[0mnlevels\u001b[0m \u001b[0;34m>\u001b[0m \u001b[0;36m1\u001b[0m\u001b[0;34m:\u001b[0m\u001b[0;34m\u001b[0m\u001b[0;34m\u001b[0m\u001b[0m\n\u001b[1;32m   3760\u001b[0m                 \u001b[0;32mreturn\u001b[0m \u001b[0mself\u001b[0m\u001b[0;34m.\u001b[0m\u001b[0m_getitem_multilevel\u001b[0m\u001b[0;34m(\u001b[0m\u001b[0mkey\u001b[0m\u001b[0;34m)\u001b[0m\u001b[0;34m\u001b[0m\u001b[0;34m\u001b[0m\u001b[0m\n\u001b[0;32m-> 3761\u001b[0;31m             \u001b[0mindexer\u001b[0m \u001b[0;34m=\u001b[0m \u001b[0mself\u001b[0m\u001b[0;34m.\u001b[0m\u001b[0mcolumns\u001b[0m\u001b[0;34m.\u001b[0m\u001b[0mget_loc\u001b[0m\u001b[0;34m(\u001b[0m\u001b[0mkey\u001b[0m\u001b[0;34m)\u001b[0m\u001b[0;34m\u001b[0m\u001b[0;34m\u001b[0m\u001b[0m\n\u001b[0m\u001b[1;32m   3762\u001b[0m             \u001b[0;32mif\u001b[0m \u001b[0mis_integer\u001b[0m\u001b[0;34m(\u001b[0m\u001b[0mindexer\u001b[0m\u001b[0;34m)\u001b[0m\u001b[0;34m:\u001b[0m\u001b[0;34m\u001b[0m\u001b[0;34m\u001b[0m\u001b[0m\n\u001b[1;32m   3763\u001b[0m                 \u001b[0mindexer\u001b[0m \u001b[0;34m=\u001b[0m \u001b[0;34m[\u001b[0m\u001b[0mindexer\u001b[0m\u001b[0;34m]\u001b[0m\u001b[0;34m\u001b[0m\u001b[0;34m\u001b[0m\u001b[0m\n",
            "\u001b[0;32m/usr/local/lib/python3.10/dist-packages/pandas/core/indexes/base.py\u001b[0m in \u001b[0;36mget_loc\u001b[0;34m(self, key)\u001b[0m\n\u001b[1;32m   3653\u001b[0m             \u001b[0;32mreturn\u001b[0m \u001b[0mself\u001b[0m\u001b[0;34m.\u001b[0m\u001b[0m_engine\u001b[0m\u001b[0;34m.\u001b[0m\u001b[0mget_loc\u001b[0m\u001b[0;34m(\u001b[0m\u001b[0mcasted_key\u001b[0m\u001b[0;34m)\u001b[0m\u001b[0;34m\u001b[0m\u001b[0;34m\u001b[0m\u001b[0m\n\u001b[1;32m   3654\u001b[0m         \u001b[0;32mexcept\u001b[0m \u001b[0mKeyError\u001b[0m \u001b[0;32mas\u001b[0m \u001b[0merr\u001b[0m\u001b[0;34m:\u001b[0m\u001b[0;34m\u001b[0m\u001b[0;34m\u001b[0m\u001b[0m\n\u001b[0;32m-> 3655\u001b[0;31m             \u001b[0;32mraise\u001b[0m \u001b[0mKeyError\u001b[0m\u001b[0;34m(\u001b[0m\u001b[0mkey\u001b[0m\u001b[0;34m)\u001b[0m \u001b[0;32mfrom\u001b[0m \u001b[0merr\u001b[0m\u001b[0;34m\u001b[0m\u001b[0;34m\u001b[0m\u001b[0m\n\u001b[0m\u001b[1;32m   3656\u001b[0m         \u001b[0;32mexcept\u001b[0m \u001b[0mTypeError\u001b[0m\u001b[0;34m:\u001b[0m\u001b[0;34m\u001b[0m\u001b[0;34m\u001b[0m\u001b[0m\n\u001b[1;32m   3657\u001b[0m             \u001b[0;31m# If we have a listlike key, _check_indexing_error will raise\u001b[0m\u001b[0;34m\u001b[0m\u001b[0;34m\u001b[0m\u001b[0m\n",
            "\u001b[0;31mKeyError\u001b[0m: 'birthDate'"
          ]
        }
      ]
    },
    {
      "cell_type": "code",
      "source": [
        "import pandas as pd\n",
        "from datetime import datetime\n",
        "import numpy as np\n",
        "\n",
        "# Sample data extracted from the user's input\n",
        "data = {\n",
        "    'patientDetails.birthDate': [\"None\", \"1996-05-16T18:30:00.000Z\", \"NaN\", \"1988-04-24T14:30:00.000Z\", \"NaN\",\n",
        "                                 \"1983-05-16T18:30:00.000Z\", \"2003-06-27T14:30:00.000Z\", \"NaN\", \"1983-05-16T18:30:00.000Z\",\n",
        "                                 \"1998-05-16T18:30:00.000Z\", \"1988-04-08T00:00:00.000Z\", \"1971-05-16T18:30:00.000Z\",\n",
        "                                 \"1970-05-16T18:30:00.000Z\", \"1997-07-31T00:00:00.000Z\", \"NaN\", \"1997-05-16T18:30:00.000Z\",\n",
        "                                 \"1972-05-16T18:30:00.000Z\", \"2001-05-16T18:30:00.000Z\", \"NaN\", \"NaN\", \"2001-08-27T00:00:00.000Z\",\n",
        "                                 \"1998-11-19T23:30:00.000Z\", \"1996-05-16T18:30:00.000Z\", \"NaN\", \"1992-05-16T18:30:00.000Z\",\n",
        "                                 \"NaN\", \"NaN\", \"1999-05-16T18:30:00.000Z\", \"1972-05-16T18:30:00.000Z\", \"1980-03-22T18:30:00.000Z\",\n",
        "                                 \"1991-11-19T23:30:00.000Z\"],\n",
        "    'consultationData.procedures': [[], [], [], [], [], [], [], [], [], [], [], [], [], [], [], [], [], [], [], [], [], [], [], [], [], [], [], [], [], [], []]\n",
        "}\n",
        "\n",
        "df = pd.DataFrame(data)\n",
        "\n",
        "# Function to calculate age from birth date\n",
        "def calculate_age(birthdate):\n",
        "    if pd.isna(birthdate) or birthdate == \"None\" or birthdate == \"NaN\":\n",
        "        return np.nan\n",
        "    birthdate = datetime.strptime(birthdate, \"%Y-%m-%dT%H:%M:%S.%fZ\")\n",
        "    today = datetime.today()\n",
        "    return today.year - birthdate.year - ((today.month, today.day) < (birthdate.month, birthdate.day))\n",
        "\n",
        "# Calculate ages\n",
        "df['age'] = df['patientDetails.birthDate'].apply(calculate_age)\n",
        "\n",
        "# Count the number of prescribed medicines\n",
        "df['num_medicines'] = df['consultationData.procedures'].apply(len)\n",
        "\n",
        "# Drop rows with NaN values in 'age' or 'num_medicines'\n",
        "df = df.dropna(subset=['age', 'num_medicines'])\n",
        "\n",
        "# Calculate Pearson correlation\n",
        "correlation = df['age'].corr(df['num_medicines'])\n",
        "\n",
        "print(correlation)"
      ],
      "metadata": {
        "colab": {
          "base_uri": "https://localhost:8080/"
        },
        "id": "GbvmBwnSXgxr",
        "outputId": "7a058923-251a-44a5-83cf-53177743960c"
      },
      "execution_count": 47,
      "outputs": [
        {
          "output_type": "stream",
          "name": "stdout",
          "text": [
            "nan\n"
          ]
        }
      ]
    },
    {
      "cell_type": "code",
      "source": [],
      "metadata": {
        "id": "UyuVH6RaX210"
      },
      "execution_count": null,
      "outputs": []
    }
  ]
}